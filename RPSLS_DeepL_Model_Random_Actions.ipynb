{
  "nbformat": 4,
  "nbformat_minor": 0,
  "metadata": {
    "colab": {
      "provenance": []
    },
    "kernelspec": {
      "name": "python3",
      "display_name": "Python 3"
    },
    "language_info": {
      "name": "python"
    }
  },
  "cells": [
    {
      "cell_type": "code",
      "source": [
        "# Install Dependencies\n",
        "!pip install tensorflow"
      ],
      "metadata": {
        "colab": {
          "base_uri": "https://localhost:8080/"
        },
        "id": "Wg2dxjWQPlj7",
        "outputId": "a54f8358-3a2e-4580-c9b3-9aad3aa209f0"
      },
      "execution_count": 1,
      "outputs": [
        {
          "output_type": "stream",
          "name": "stdout",
          "text": [
            "Requirement already satisfied: tensorflow in /usr/local/lib/python3.10/dist-packages (2.15.0)\n",
            "Requirement already satisfied: absl-py>=1.0.0 in /usr/local/lib/python3.10/dist-packages (from tensorflow) (1.4.0)\n",
            "Requirement already satisfied: astunparse>=1.6.0 in /usr/local/lib/python3.10/dist-packages (from tensorflow) (1.6.3)\n",
            "Requirement already satisfied: flatbuffers>=23.5.26 in /usr/local/lib/python3.10/dist-packages (from tensorflow) (24.3.7)\n",
            "Requirement already satisfied: gast!=0.5.0,!=0.5.1,!=0.5.2,>=0.2.1 in /usr/local/lib/python3.10/dist-packages (from tensorflow) (0.5.4)\n",
            "Requirement already satisfied: google-pasta>=0.1.1 in /usr/local/lib/python3.10/dist-packages (from tensorflow) (0.2.0)\n",
            "Requirement already satisfied: h5py>=2.9.0 in /usr/local/lib/python3.10/dist-packages (from tensorflow) (3.9.0)\n",
            "Requirement already satisfied: libclang>=13.0.0 in /usr/local/lib/python3.10/dist-packages (from tensorflow) (18.1.1)\n",
            "Requirement already satisfied: ml-dtypes~=0.2.0 in /usr/local/lib/python3.10/dist-packages (from tensorflow) (0.2.0)\n",
            "Requirement already satisfied: numpy<2.0.0,>=1.23.5 in /usr/local/lib/python3.10/dist-packages (from tensorflow) (1.25.2)\n",
            "Requirement already satisfied: opt-einsum>=2.3.2 in /usr/local/lib/python3.10/dist-packages (from tensorflow) (3.3.0)\n",
            "Requirement already satisfied: packaging in /usr/local/lib/python3.10/dist-packages (from tensorflow) (24.0)\n",
            "Requirement already satisfied: protobuf!=4.21.0,!=4.21.1,!=4.21.2,!=4.21.3,!=4.21.4,!=4.21.5,<5.0.0dev,>=3.20.3 in /usr/local/lib/python3.10/dist-packages (from tensorflow) (3.20.3)\n",
            "Requirement already satisfied: setuptools in /usr/local/lib/python3.10/dist-packages (from tensorflow) (67.7.2)\n",
            "Requirement already satisfied: six>=1.12.0 in /usr/local/lib/python3.10/dist-packages (from tensorflow) (1.16.0)\n",
            "Requirement already satisfied: termcolor>=1.1.0 in /usr/local/lib/python3.10/dist-packages (from tensorflow) (2.4.0)\n",
            "Requirement already satisfied: typing-extensions>=3.6.6 in /usr/local/lib/python3.10/dist-packages (from tensorflow) (4.10.0)\n",
            "Requirement already satisfied: wrapt<1.15,>=1.11.0 in /usr/local/lib/python3.10/dist-packages (from tensorflow) (1.14.1)\n",
            "Requirement already satisfied: tensorflow-io-gcs-filesystem>=0.23.1 in /usr/local/lib/python3.10/dist-packages (from tensorflow) (0.36.0)\n",
            "Requirement already satisfied: grpcio<2.0,>=1.24.3 in /usr/local/lib/python3.10/dist-packages (from tensorflow) (1.62.1)\n",
            "Requirement already satisfied: tensorboard<2.16,>=2.15 in /usr/local/lib/python3.10/dist-packages (from tensorflow) (2.15.2)\n",
            "Requirement already satisfied: tensorflow-estimator<2.16,>=2.15.0 in /usr/local/lib/python3.10/dist-packages (from tensorflow) (2.15.0)\n",
            "Requirement already satisfied: keras<2.16,>=2.15.0 in /usr/local/lib/python3.10/dist-packages (from tensorflow) (2.15.0)\n",
            "Requirement already satisfied: wheel<1.0,>=0.23.0 in /usr/local/lib/python3.10/dist-packages (from astunparse>=1.6.0->tensorflow) (0.43.0)\n",
            "Requirement already satisfied: google-auth<3,>=1.6.3 in /usr/local/lib/python3.10/dist-packages (from tensorboard<2.16,>=2.15->tensorflow) (2.27.0)\n",
            "Requirement already satisfied: google-auth-oauthlib<2,>=0.5 in /usr/local/lib/python3.10/dist-packages (from tensorboard<2.16,>=2.15->tensorflow) (1.2.0)\n",
            "Requirement already satisfied: markdown>=2.6.8 in /usr/local/lib/python3.10/dist-packages (from tensorboard<2.16,>=2.15->tensorflow) (3.6)\n",
            "Requirement already satisfied: requests<3,>=2.21.0 in /usr/local/lib/python3.10/dist-packages (from tensorboard<2.16,>=2.15->tensorflow) (2.31.0)\n",
            "Requirement already satisfied: tensorboard-data-server<0.8.0,>=0.7.0 in /usr/local/lib/python3.10/dist-packages (from tensorboard<2.16,>=2.15->tensorflow) (0.7.2)\n",
            "Requirement already satisfied: werkzeug>=1.0.1 in /usr/local/lib/python3.10/dist-packages (from tensorboard<2.16,>=2.15->tensorflow) (3.0.1)\n",
            "Requirement already satisfied: cachetools<6.0,>=2.0.0 in /usr/local/lib/python3.10/dist-packages (from google-auth<3,>=1.6.3->tensorboard<2.16,>=2.15->tensorflow) (5.3.3)\n",
            "Requirement already satisfied: pyasn1-modules>=0.2.1 in /usr/local/lib/python3.10/dist-packages (from google-auth<3,>=1.6.3->tensorboard<2.16,>=2.15->tensorflow) (0.3.0)\n",
            "Requirement already satisfied: rsa<5,>=3.1.4 in /usr/local/lib/python3.10/dist-packages (from google-auth<3,>=1.6.3->tensorboard<2.16,>=2.15->tensorflow) (4.9)\n",
            "Requirement already satisfied: requests-oauthlib>=0.7.0 in /usr/local/lib/python3.10/dist-packages (from google-auth-oauthlib<2,>=0.5->tensorboard<2.16,>=2.15->tensorflow) (1.4.0)\n",
            "Requirement already satisfied: charset-normalizer<4,>=2 in /usr/local/lib/python3.10/dist-packages (from requests<3,>=2.21.0->tensorboard<2.16,>=2.15->tensorflow) (3.3.2)\n",
            "Requirement already satisfied: idna<4,>=2.5 in /usr/local/lib/python3.10/dist-packages (from requests<3,>=2.21.0->tensorboard<2.16,>=2.15->tensorflow) (3.6)\n",
            "Requirement already satisfied: urllib3<3,>=1.21.1 in /usr/local/lib/python3.10/dist-packages (from requests<3,>=2.21.0->tensorboard<2.16,>=2.15->tensorflow) (2.0.7)\n",
            "Requirement already satisfied: certifi>=2017.4.17 in /usr/local/lib/python3.10/dist-packages (from requests<3,>=2.21.0->tensorboard<2.16,>=2.15->tensorflow) (2024.2.2)\n",
            "Requirement already satisfied: MarkupSafe>=2.1.1 in /usr/local/lib/python3.10/dist-packages (from werkzeug>=1.0.1->tensorboard<2.16,>=2.15->tensorflow) (2.1.5)\n",
            "Requirement already satisfied: pyasn1<0.6.0,>=0.4.6 in /usr/local/lib/python3.10/dist-packages (from pyasn1-modules>=0.2.1->google-auth<3,>=1.6.3->tensorboard<2.16,>=2.15->tensorflow) (0.5.1)\n",
            "Requirement already satisfied: oauthlib>=3.0.0 in /usr/local/lib/python3.10/dist-packages (from requests-oauthlib>=0.7.0->google-auth-oauthlib<2,>=0.5->tensorboard<2.16,>=2.15->tensorflow) (3.2.2)\n"
          ]
        }
      ]
    },
    {
      "cell_type": "code",
      "source": [
        "# Import Dependencies\n",
        "import random\n",
        "import numpy as np\n",
        "from tensorflow.keras.models import Sequential\n",
        "from tensorflow.keras.layers import Dense\n",
        "from tensorflow.keras.optimizers import Adam\n",
        "from tensorflow.keras.utils import to_categorical\n",
        "from sklearn.model_selection import train_test_split"
      ],
      "metadata": {
        "id": "gAmle_NSPtcY"
      },
      "execution_count": 2,
      "outputs": []
    },
    {
      "cell_type": "markdown",
      "source": [
        "Setting up RPSLS Environment"
      ],
      "metadata": {
        "id": "upDJRf9ZWp4Z"
      }
    },
    {
      "cell_type": "code",
      "source": [
        "# Set up environment for agent to learn. Includes defining actions and rewards.\n",
        "# The agent and the opponet play at random.\n",
        "class RockPaperScissorsLizardSpockEnvironment:\n",
        "     def __init__(self):\n",
        "        self.actions = [\"rock\", \"paper\", \"scissors\", \"lizard\", \"spock\"]\n",
        "        self.rewards = {\n",
        "            (\"rock\", \"rock\"): 0, (\"rock\", \"paper\"): -1, (\"rock\", \"scissors\"): 1, (\"rock\", \"lizard\"): 1,\n",
        "            (\"rock\", \"spock\"): -1,(\"paper\", \"rock\"): 1, (\"paper\", \"paper\"): 0, (\"paper\", \"scissors\"): -1,\n",
        "            (\"paper\", \"lizard\"): -1, (\"paper\", \"spock\"): 1, (\"scissors\", \"rock\"): -1, (\"scissors\", \"paper\"): 1,\n",
        "            (\"scissors\", \"scissors\"): 0, (\"scissors\", \"lizard\"): 1, (\"scissors\", \"spock\"): -1,\n",
        "            (\"lizard\", \"rock\"): -1, (\"lizard\", \"paper\"): 1, (\"lizard\", \"scissors\"): -1,\n",
        "            (\"lizard\", \"lizard\"): 0, (\"lizard\", \"spock\"): 1,(\"spock\", \"rock\"): 1, (\"spock\", \"paper\"): -1,\n",
        "            (\"spock\", \"scissors\"): 1, (\"spock\", \"lizard\"): -1, (\"spock\", \"spock\"): 0}\n",
        "\n",
        "        # Maximum number of games.\n",
        "        self.max_steps = 50\n",
        "        self.current_step = 0\n",
        "\n",
        "\n",
        "     def step(self, action):\n",
        "        opponent_action = random.choice(self.actions)\n",
        "        reward = self.rewards[(action, opponent_action)]\n",
        "        self.current_step += 1\n",
        "        done = self.current_step >= self.max_steps\n",
        "        return opponent_action, reward, done\n",
        "\n",
        "     def reset(self):\n",
        "        self.current_step = 0\n",
        "        action = random.choice(self.actions)\n",
        "        return action"
      ],
      "metadata": {
        "id": "8S7kUgvASxmb"
      },
      "execution_count": 4,
      "outputs": []
    },
    {
      "cell_type": "code",
      "source": [
        "# Defining the Agent's actions and states.\n",
        "# The agent chooses a random hand each time.\n",
        "class RLAgent:\n",
        "    def __init__(self):\n",
        "        self.actions = [\"rock\", \"paper\", \"scissors\", \"lizard\", \"spock\"]\n",
        "        self.rewards = {\n",
        "            (\"rock\", \"rock\"): 0, (\"rock\", \"paper\"): -1, (\"rock\", \"scissors\"): 1,\n",
        "            (\"rock\", \"lizard\"): 1, (\"rock\", \"spock\"): -1,\n",
        "            (\"paper\", \"rock\"): 1, (\"paper\", \"paper\"): 0, (\"paper\", \"scissors\"): -1,\n",
        "            (\"paper\", \"lizard\"): -1, (\"paper\", \"spock\"): 1,\n",
        "            (\"scissors\", \"rock\"): -1, (\"scissors\", \"paper\"): 1, (\"scissors\", \"scissors\"): 0,\n",
        "            (\"scissors\", \"lizard\"): 1, (\"scissors\", \"spock\"): -1,\n",
        "            (\"lizard\", \"rock\"): -1, (\"lizard\", \"paper\"): 1, (\"lizard\", \"scissors\"): -1,\n",
        "            (\"lizard\", \"lizard\"): 0, (\"lizard\", \"spock\"): 1,\n",
        "            (\"spock\", \"rock\"): 1, (\"spock\", \"paper\"): -1, (\"spock\", \"scissors\"): 1,\n",
        "            (\"spock\", \"lizard\"): -1, (\"spock\", \"spock\"): 0\n",
        "        }\n",
        "\n",
        "        # Maximum number of games.\n",
        "        self.max_steps = 50\n",
        "\n",
        "    def choose_action(self, state):\n",
        "        import random\n",
        "        action = random.choice(self.actions)\n",
        "        return action"
      ],
      "metadata": {
        "id": "6zo5mFjpYo2E"
      },
      "execution_count": 5,
      "outputs": []
    },
    {
      "cell_type": "code",
      "source": [
        "# Training loop.\n",
        "score = 0\n",
        "env = RockPaperScissorsLizardSpockEnvironment()\n",
        "agent = RLAgent()\n",
        "episodes = 50\n",
        "states = []\n",
        "rewards = []\n",
        "\n",
        "for episode in range(1,episodes+1):\n",
        "    state = env.reset()\n",
        "    done = False\n",
        "    score = 0\n",
        "\n",
        "    while not done:\n",
        "        action = agent.choose_action(state)\n",
        "        next_state, reward, done = env.step(action)\n",
        "        score+=reward\n",
        "        states.append(state)\n",
        "        rewards.append(reward)\n",
        "        state = next_state\n",
        "    print('Episode:{} Score{}'.format(episode,score))"
      ],
      "metadata": {
        "colab": {
          "base_uri": "https://localhost:8080/"
        },
        "id": "zGkhwz_pTA_d",
        "outputId": "bf9919a8-7f75-4295-840d-d7585f2e9730"
      },
      "execution_count": 6,
      "outputs": [
        {
          "output_type": "stream",
          "name": "stdout",
          "text": [
            "Episode:1 Score-6\n",
            "Episode:2 Score6\n",
            "Episode:3 Score7\n",
            "Episode:4 Score12\n",
            "Episode:5 Score5\n",
            "Episode:6 Score-7\n",
            "Episode:7 Score4\n",
            "Episode:8 Score2\n",
            "Episode:9 Score-11\n",
            "Episode:10 Score1\n",
            "Episode:11 Score-9\n",
            "Episode:12 Score11\n",
            "Episode:13 Score6\n",
            "Episode:14 Score11\n",
            "Episode:15 Score-4\n",
            "Episode:16 Score-9\n",
            "Episode:17 Score-6\n",
            "Episode:18 Score10\n",
            "Episode:19 Score-6\n",
            "Episode:20 Score-6\n",
            "Episode:21 Score9\n",
            "Episode:22 Score-1\n",
            "Episode:23 Score3\n",
            "Episode:24 Score-3\n",
            "Episode:25 Score-6\n",
            "Episode:26 Score-1\n",
            "Episode:27 Score-1\n",
            "Episode:28 Score-9\n",
            "Episode:29 Score-1\n",
            "Episode:30 Score7\n",
            "Episode:31 Score7\n",
            "Episode:32 Score3\n",
            "Episode:33 Score-8\n",
            "Episode:34 Score8\n",
            "Episode:35 Score-5\n",
            "Episode:36 Score-3\n",
            "Episode:37 Score-1\n",
            "Episode:38 Score-7\n",
            "Episode:39 Score-4\n",
            "Episode:40 Score2\n",
            "Episode:41 Score1\n",
            "Episode:42 Score-4\n",
            "Episode:43 Score-8\n",
            "Episode:44 Score8\n",
            "Episode:45 Score-3\n",
            "Episode:46 Score2\n",
            "Episode:47 Score-8\n",
            "Episode:48 Score-2\n",
            "Episode:49 Score-4\n",
            "Episode:50 Score0\n"
          ]
        }
      ]
    },
    {
      "cell_type": "code",
      "source": [
        "# Verifying states are strings.\n",
        "print(states)"
      ],
      "metadata": {
        "colab": {
          "base_uri": "https://localhost:8080/"
        },
        "id": "wmE5H0Y4e0ly",
        "outputId": "671484af-4cac-4c71-e4e9-2eb9121fe01e"
      },
      "execution_count": 7,
      "outputs": [
        {
          "output_type": "stream",
          "name": "stdout",
          "text": [
            "['lizard', 'paper', 'scissors', 'rock', 'lizard', 'scissors', 'paper', 'scissors', 'rock', 'paper', 'scissors', 'rock', 'rock', 'paper', 'paper', 'paper', 'paper', 'lizard', 'paper', 'rock', 'rock', 'rock', 'scissors', 'spock', 'lizard', 'rock', 'scissors', 'scissors', 'lizard', 'spock', 'spock', 'rock', 'spock', 'scissors', 'paper', 'lizard', 'paper', 'rock', 'lizard', 'spock', 'rock', 'spock', 'scissors', 'paper', 'scissors', 'lizard', 'scissors', 'scissors', 'spock', 'scissors', 'rock', 'paper', 'rock', 'scissors', 'rock', 'paper', 'rock', 'lizard', 'lizard', 'spock', 'rock', 'rock', 'rock', 'rock', 'paper', 'spock', 'lizard', 'paper', 'paper', 'paper', 'lizard', 'paper', 'paper', 'rock', 'lizard', 'lizard', 'rock', 'rock', 'lizard', 'rock', 'paper', 'lizard', 'scissors', 'lizard', 'paper', 'paper', 'spock', 'spock', 'rock', 'scissors', 'paper', 'rock', 'spock', 'paper', 'paper', 'scissors', 'paper', 'scissors', 'scissors', 'lizard', 'scissors', 'scissors', 'lizard', 'paper', 'scissors', 'lizard', 'paper', 'lizard', 'scissors', 'lizard', 'scissors', 'lizard', 'lizard', 'rock', 'spock', 'spock', 'spock', 'scissors', 'rock', 'spock', 'rock', 'lizard', 'paper', 'lizard', 'spock', 'paper', 'lizard', 'lizard', 'scissors', 'rock', 'rock', 'rock', 'spock', 'spock', 'paper', 'paper', 'paper', 'scissors', 'spock', 'spock', 'rock', 'paper', 'spock', 'lizard', 'scissors', 'rock', 'spock', 'paper', 'paper', 'rock', 'paper', 'paper', 'lizard', 'scissors', 'scissors', 'scissors', 'scissors', 'spock', 'spock', 'lizard', 'rock', 'paper', 'lizard', 'paper', 'spock', 'lizard', 'paper', 'spock', 'paper', 'lizard', 'lizard', 'rock', 'rock', 'scissors', 'rock', 'lizard', 'lizard', 'lizard', 'spock', 'rock', 'spock', 'scissors', 'paper', 'rock', 'rock', 'rock', 'spock', 'spock', 'scissors', 'lizard', 'paper', 'scissors', 'paper', 'lizard', 'spock', 'rock', 'rock', 'paper', 'paper', 'rock', 'paper', 'paper', 'rock', 'lizard', 'paper', 'scissors', 'lizard', 'rock', 'scissors', 'spock', 'scissors', 'rock', 'paper', 'lizard', 'rock', 'lizard', 'paper', 'paper', 'scissors', 'spock', 'scissors', 'spock', 'paper', 'scissors', 'scissors', 'spock', 'rock', 'paper', 'rock', 'scissors', 'rock', 'lizard', 'lizard', 'rock', 'paper', 'paper', 'lizard', 'scissors', 'scissors', 'scissors', 'scissors', 'paper', 'scissors', 'scissors', 'paper', 'lizard', 'spock', 'lizard', 'rock', 'scissors', 'paper', 'lizard', 'scissors', 'paper', 'lizard', 'lizard', 'lizard', 'scissors', 'lizard', 'scissors', 'scissors', 'lizard', 'rock', 'lizard', 'spock', 'scissors', 'lizard', 'spock', 'lizard', 'paper', 'spock', 'spock', 'scissors', 'scissors', 'spock', 'lizard', 'paper', 'spock', 'paper', 'paper', 'paper', 'rock', 'scissors', 'paper', 'rock', 'scissors', 'lizard', 'paper', 'spock', 'paper', 'spock', 'paper', 'lizard', 'rock', 'paper', 'spock', 'lizard', 'spock', 'rock', 'spock', 'rock', 'rock', 'paper', 'spock', 'rock', 'rock', 'scissors', 'spock', 'rock', 'rock', 'lizard', 'paper', 'paper', 'paper', 'spock', 'rock', 'rock', 'paper', 'scissors', 'spock', 'rock', 'lizard', 'scissors', 'scissors', 'paper', 'rock', 'rock', 'paper', 'lizard', 'spock', 'spock', 'scissors', 'spock', 'paper', 'rock', 'rock', 'rock', 'rock', 'rock', 'paper', 'scissors', 'lizard', 'paper', 'lizard', 'paper', 'paper', 'scissors', 'spock', 'scissors', 'spock', 'spock', 'lizard', 'paper', 'paper', 'scissors', 'lizard', 'rock', 'paper', 'spock', 'spock', 'lizard', 'paper', 'rock', 'spock', 'spock', 'rock', 'spock', 'rock', 'paper', 'scissors', 'rock', 'paper', 'lizard', 'paper', 'scissors', 'scissors', 'paper', 'scissors', 'rock', 'lizard', 'spock', 'lizard', 'spock', 'rock', 'scissors', 'spock', 'scissors', 'spock', 'scissors', 'rock', 'rock', 'scissors', 'scissors', 'lizard', 'scissors', 'scissors', 'rock', 'spock', 'spock', 'rock', 'lizard', 'spock', 'lizard', 'rock', 'rock', 'lizard', 'rock', 'spock', 'lizard', 'lizard', 'paper', 'lizard', 'rock', 'spock', 'paper', 'paper', 'spock', 'scissors', 'scissors', 'lizard', 'paper', 'scissors', 'spock', 'rock', 'lizard', 'paper', 'spock', 'paper', 'lizard', 'rock', 'scissors', 'lizard', 'rock', 'spock', 'paper', 'spock', 'lizard', 'scissors', 'scissors', 'lizard', 'scissors', 'scissors', 'lizard', 'rock', 'lizard', 'spock', 'scissors', 'scissors', 'scissors', 'rock', 'paper', 'paper', 'spock', 'paper', 'spock', 'spock', 'lizard', 'lizard', 'rock', 'spock', 'paper', 'scissors', 'rock', 'scissors', 'spock', 'lizard', 'spock', 'paper', 'spock', 'lizard', 'spock', 'rock', 'spock', 'paper', 'lizard', 'lizard', 'scissors', 'rock', 'spock', 'spock', 'scissors', 'scissors', 'rock', 'lizard', 'spock', 'spock', 'lizard', 'lizard', 'spock', 'rock', 'paper', 'lizard', 'scissors', 'scissors', 'lizard', 'lizard', 'paper', 'lizard', 'spock', 'rock', 'paper', 'spock', 'rock', 'scissors', 'rock', 'rock', 'paper', 'scissors', 'spock', 'scissors', 'lizard', 'lizard', 'lizard', 'scissors', 'rock', 'paper', 'lizard', 'rock', 'lizard', 'lizard', 'rock', 'lizard', 'rock', 'scissors', 'scissors', 'lizard', 'spock', 'scissors', 'spock', 'spock', 'rock', 'paper', 'lizard', 'scissors', 'scissors', 'paper', 'rock', 'rock', 'paper', 'rock', 'paper', 'paper', 'spock', 'scissors', 'lizard', 'scissors', 'spock', 'scissors', 'paper', 'lizard', 'rock', 'lizard', 'rock', 'spock', 'spock', 'scissors', 'paper', 'lizard', 'rock', 'rock', 'rock', 'paper', 'spock', 'paper', 'rock', 'spock', 'paper', 'scissors', 'spock', 'paper', 'lizard', 'spock', 'paper', 'paper', 'lizard', 'spock', 'scissors', 'paper', 'scissors', 'lizard', 'rock', 'spock', 'lizard', 'paper', 'paper', 'paper', 'paper', 'lizard', 'rock', 'spock', 'spock', 'scissors', 'paper', 'lizard', 'lizard', 'spock', 'rock', 'lizard', 'spock', 'lizard', 'rock', 'lizard', 'scissors', 'rock', 'rock', 'scissors', 'rock', 'lizard', 'lizard', 'spock', 'lizard', 'paper', 'scissors', 'rock', 'spock', 'spock', 'spock', 'spock', 'lizard', 'lizard', 'spock', 'rock', 'paper', 'lizard', 'lizard', 'rock', 'spock', 'spock', 'rock', 'lizard', 'paper', 'rock', 'paper', 'scissors', 'paper', 'lizard', 'lizard', 'spock', 'spock', 'rock', 'rock', 'scissors', 'rock', 'rock', 'lizard', 'lizard', 'spock', 'spock', 'lizard', 'rock', 'paper', 'scissors', 'rock', 'spock', 'scissors', 'paper', 'lizard', 'scissors', 'spock', 'spock', 'paper', 'scissors', 'scissors', 'spock', 'paper', 'lizard', 'paper', 'paper', 'paper', 'rock', 'scissors', 'rock', 'rock', 'paper', 'spock', 'rock', 'rock', 'rock', 'scissors', 'paper', 'spock', 'rock', 'lizard', 'paper', 'lizard', 'lizard', 'rock', 'rock', 'spock', 'lizard', 'rock', 'paper', 'paper', 'spock', 'rock', 'lizard', 'scissors', 'paper', 'lizard', 'lizard', 'spock', 'scissors', 'paper', 'paper', 'scissors', 'lizard', 'lizard', 'lizard', 'paper', 'paper', 'lizard', 'scissors', 'scissors', 'scissors', 'lizard', 'paper', 'lizard', 'scissors', 'lizard', 'lizard', 'rock', 'lizard', 'paper', 'spock', 'paper', 'scissors', 'lizard', 'rock', 'paper', 'rock', 'rock', 'spock', 'scissors', 'scissors', 'paper', 'rock', 'scissors', 'scissors', 'rock', 'rock', 'rock', 'paper', 'scissors', 'rock', 'scissors', 'rock', 'paper', 'scissors', 'paper', 'paper', 'paper', 'spock', 'paper', 'rock', 'rock', 'scissors', 'scissors', 'scissors', 'rock', 'scissors', 'paper', 'rock', 'lizard', 'paper', 'paper', 'paper', 'spock', 'paper', 'spock', 'spock', 'rock', 'paper', 'paper', 'scissors', 'rock', 'spock', 'paper', 'spock', 'rock', 'scissors', 'lizard', 'spock', 'spock', 'lizard', 'paper', 'scissors', 'spock', 'rock', 'lizard', 'spock', 'spock', 'lizard', 'rock', 'scissors', 'spock', 'lizard', 'lizard', 'paper', 'paper', 'scissors', 'lizard', 'scissors', 'rock', 'spock', 'rock', 'scissors', 'rock', 'lizard', 'paper', 'scissors', 'scissors', 'paper', 'rock', 'scissors', 'rock', 'scissors', 'spock', 'spock', 'lizard', 'lizard', 'lizard', 'rock', 'spock', 'paper', 'paper', 'scissors', 'scissors', 'paper', 'rock', 'rock', 'spock', 'spock', 'lizard', 'lizard', 'rock', 'spock', 'paper', 'paper', 'lizard', 'scissors', 'spock', 'lizard', 'scissors', 'scissors', 'scissors', 'lizard', 'paper', 'lizard', 'rock', 'lizard', 'scissors', 'rock', 'spock', 'scissors', 'rock', 'spock', 'scissors', 'paper', 'lizard', 'scissors', 'lizard', 'scissors', 'scissors', 'lizard', 'scissors', 'lizard', 'scissors', 'rock', 'paper', 'paper', 'lizard', 'lizard', 'rock', 'spock', 'rock', 'scissors', 'rock', 'lizard', 'scissors', 'lizard', 'rock', 'spock', 'lizard', 'scissors', 'scissors', 'spock', 'lizard', 'rock', 'spock', 'lizard', 'rock', 'rock', 'spock', 'rock', 'spock', 'paper', 'scissors', 'scissors', 'rock', 'rock', 'spock', 'spock', 'paper', 'rock', 'spock', 'paper', 'spock', 'paper', 'lizard', 'rock', 'lizard', 'spock', 'paper', 'paper', 'spock', 'spock', 'rock', 'scissors', 'rock', 'scissors', 'scissors', 'lizard', 'paper', 'rock', 'lizard', 'rock', 'rock', 'lizard', 'rock', 'scissors', 'spock', 'rock', 'paper', 'rock', 'scissors', 'lizard', 'paper', 'spock', 'rock', 'rock', 'paper', 'paper', 'spock', 'rock', 'lizard', 'rock', 'spock', 'lizard', 'rock', 'lizard', 'spock', 'rock', 'lizard', 'paper', 'scissors', 'lizard', 'lizard', 'scissors', 'paper', 'paper', 'lizard', 'paper', 'spock', 'rock', 'paper', 'lizard', 'scissors', 'lizard', 'spock', 'rock', 'lizard', 'spock', 'paper', 'lizard', 'scissors', 'scissors', 'spock', 'scissors', 'lizard', 'paper', 'scissors', 'scissors', 'paper', 'paper', 'paper', 'rock', 'lizard', 'spock', 'paper', 'spock', 'lizard', 'scissors', 'lizard', 'scissors', 'lizard', 'rock', 'rock', 'lizard', 'rock', 'lizard', 'lizard', 'rock', 'scissors', 'spock', 'scissors', 'spock', 'scissors', 'paper', 'scissors', 'lizard', 'rock', 'rock', 'paper', 'rock', 'lizard', 'paper', 'lizard', 'scissors', 'paper', 'spock', 'lizard', 'rock', 'rock', 'spock', 'lizard', 'paper', 'paper', 'spock', 'rock', 'rock', 'spock', 'lizard', 'scissors', 'lizard', 'lizard', 'paper', 'lizard', 'rock', 'rock', 'spock', 'spock', 'rock', 'spock', 'lizard', 'spock', 'lizard', 'spock', 'paper', 'lizard', 'rock', 'paper', 'lizard', 'spock', 'spock', 'spock', 'spock', 'paper', 'paper', 'spock', 'scissors', 'scissors', 'rock', 'rock', 'scissors', 'paper', 'spock', 'rock', 'lizard', 'scissors', 'spock', 'lizard', 'scissors', 'spock', 'spock', 'paper', 'rock', 'spock', 'rock', 'scissors', 'scissors', 'rock', 'rock', 'rock', 'spock', 'lizard', 'lizard', 'rock', 'lizard', 'spock', 'scissors', 'scissors', 'lizard', 'rock', 'scissors', 'lizard', 'lizard', 'lizard', 'scissors', 'spock', 'paper', 'paper', 'paper', 'paper', 'lizard', 'scissors', 'rock', 'lizard', 'paper', 'rock', 'lizard', 'lizard', 'rock', 'paper', 'paper', 'spock', 'rock', 'lizard', 'lizard', 'lizard', 'scissors', 'scissors', 'spock', 'lizard', 'paper', 'spock', 'paper', 'spock', 'lizard', 'spock', 'paper', 'rock', 'spock', 'spock', 'spock', 'rock', 'lizard', 'lizard', 'spock', 'paper', 'paper', 'rock', 'scissors', 'paper', 'scissors', 'spock', 'paper', 'lizard', 'rock', 'paper', 'scissors', 'scissors', 'paper', 'spock', 'rock', 'scissors', 'lizard', 'rock', 'spock', 'spock', 'lizard', 'spock', 'spock', 'lizard', 'lizard', 'spock', 'paper', 'lizard', 'scissors', 'lizard', 'lizard', 'rock', 'scissors', 'paper', 'spock', 'rock', 'lizard', 'rock', 'scissors', 'lizard', 'rock', 'paper', 'spock', 'rock', 'scissors', 'scissors', 'scissors', 'scissors', 'lizard', 'spock', 'paper', 'paper', 'paper', 'lizard', 'paper', 'rock', 'rock', 'lizard', 'lizard', 'lizard', 'rock', 'paper', 'lizard', 'paper', 'paper', 'scissors', 'spock', 'rock', 'scissors', 'paper', 'scissors', 'spock', 'scissors', 'scissors', 'paper', 'scissors', 'lizard', 'spock', 'spock', 'spock', 'lizard', 'rock', 'paper', 'spock', 'spock', 'scissors', 'paper', 'lizard', 'lizard', 'spock', 'paper', 'paper', 'spock', 'scissors', 'lizard', 'rock', 'scissors', 'spock', 'rock', 'lizard', 'scissors', 'scissors', 'paper', 'scissors', 'spock', 'rock', 'paper', 'lizard', 'rock', 'spock', 'rock', 'rock', 'scissors', 'scissors', 'rock', 'lizard', 'rock', 'rock', 'scissors', 'rock', 'lizard', 'spock', 'scissors', 'paper', 'rock', 'scissors', 'scissors', 'lizard', 'spock', 'paper', 'lizard', 'paper', 'paper', 'lizard', 'spock', 'scissors', 'paper', 'lizard', 'lizard', 'scissors', 'lizard', 'spock', 'rock', 'paper', 'rock', 'rock', 'paper', 'spock', 'scissors', 'spock', 'rock', 'scissors', 'paper', 'lizard', 'scissors', 'paper', 'rock', 'rock', 'spock', 'paper', 'paper', 'spock', 'paper', 'spock', 'scissors', 'spock', 'rock', 'rock', 'spock', 'spock', 'paper', 'lizard', 'scissors', 'paper', 'spock', 'paper', 'lizard', 'scissors', 'rock', 'scissors', 'lizard', 'spock', 'paper', 'spock', 'scissors', 'spock', 'spock', 'lizard', 'rock', 'scissors', 'spock', 'lizard', 'scissors', 'lizard', 'paper', 'spock', 'rock', 'lizard', 'paper', 'spock', 'lizard', 'paper', 'lizard', 'lizard', 'paper', 'paper', 'paper', 'spock', 'rock', 'rock', 'scissors', 'scissors', 'paper', 'lizard', 'scissors', 'paper', 'spock', 'scissors', 'paper', 'scissors', 'lizard', 'paper', 'rock', 'spock', 'paper', 'scissors', 'scissors', 'paper', 'spock', 'paper', 'rock', 'lizard', 'rock', 'lizard', 'paper', 'paper', 'lizard', 'spock', 'lizard', 'lizard', 'scissors', 'paper', 'scissors', 'scissors', 'spock', 'lizard', 'spock', 'paper', 'lizard', 'lizard', 'rock', 'lizard', 'paper', 'scissors', 'scissors', 'rock', 'lizard', 'scissors', 'paper', 'rock', 'lizard', 'spock', 'lizard', 'lizard', 'rock', 'scissors', 'spock', 'rock', 'spock', 'lizard', 'scissors', 'spock', 'rock', 'rock', 'scissors', 'rock', 'spock', 'scissors', 'rock', 'scissors', 'rock', 'spock', 'rock', 'lizard', 'rock', 'rock', 'paper', 'lizard', 'paper', 'rock', 'spock', 'rock', 'paper', 'scissors', 'lizard', 'rock', 'lizard', 'lizard', 'rock', 'paper', 'spock', 'lizard', 'spock', 'scissors', 'paper', 'lizard', 'paper', 'scissors', 'scissors', 'rock', 'rock', 'rock', 'paper', 'paper', 'rock', 'paper', 'scissors', 'paper', 'rock', 'rock', 'scissors', 'paper', 'spock', 'lizard', 'scissors', 'lizard', 'rock', 'lizard', 'spock', 'paper', 'lizard', 'lizard', 'lizard', 'paper', 'spock', 'scissors', 'lizard', 'rock', 'paper', 'spock', 'scissors', 'spock', 'spock', 'spock', 'spock', 'paper', 'rock', 'rock', 'scissors', 'rock', 'paper', 'spock', 'lizard', 'lizard', 'paper', 'spock', 'scissors', 'lizard', 'paper', 'spock', 'scissors', 'rock', 'spock', 'paper', 'spock', 'lizard', 'paper', 'rock', 'scissors', 'spock', 'paper', 'spock', 'spock', 'spock', 'paper', 'spock', 'spock', 'scissors', 'scissors', 'rock', 'spock', 'rock', 'rock', 'lizard', 'rock', 'scissors', 'lizard', 'lizard', 'spock', 'lizard', 'spock', 'lizard', 'spock', 'rock', 'paper', 'spock', 'rock', 'rock', 'scissors', 'rock', 'scissors', 'rock', 'rock', 'lizard', 'rock', 'spock', 'scissors', 'paper', 'rock', 'lizard', 'scissors', 'spock', 'lizard', 'paper', 'lizard', 'scissors', 'spock', 'rock', 'rock', 'paper', 'rock', 'spock', 'rock', 'rock', 'rock', 'scissors', 'spock', 'spock', 'lizard', 'scissors', 'scissors', 'spock', 'spock', 'scissors', 'lizard', 'rock', 'scissors', 'scissors', 'paper', 'paper', 'lizard', 'lizard', 'paper', 'lizard', 'rock', 'scissors', 'scissors', 'spock', 'spock', 'spock', 'paper', 'spock', 'spock', 'spock', 'scissors', 'spock', 'spock', 'paper', 'spock', 'paper', 'scissors', 'lizard', 'rock', 'lizard', 'lizard', 'scissors', 'lizard', 'paper', 'spock', 'spock', 'spock', 'spock', 'scissors', 'lizard', 'lizard', 'spock', 'rock', 'rock', 'paper', 'rock', 'paper', 'lizard', 'paper', 'rock', 'paper', 'spock', 'scissors', 'lizard', 'spock', 'spock', 'lizard', 'spock', 'spock', 'rock', 'lizard', 'scissors', 'rock', 'lizard', 'spock', 'lizard', 'spock', 'spock', 'spock', 'rock', 'spock', 'paper', 'paper', 'paper', 'scissors', 'paper', 'rock', 'rock', 'spock', 'scissors', 'lizard', 'paper', 'lizard', 'paper', 'spock', 'lizard', 'spock', 'paper', 'scissors', 'rock', 'spock', 'rock', 'paper', 'spock', 'rock', 'rock', 'rock', 'spock', 'paper', 'scissors', 'scissors', 'scissors', 'paper', 'rock', 'lizard', 'spock', 'rock', 'paper', 'lizard', 'rock', 'rock', 'lizard', 'paper', 'rock', 'lizard', 'scissors', 'scissors', 'scissors', 'paper', 'rock', 'lizard', 'rock', 'lizard', 'paper', 'paper', 'spock', 'scissors', 'paper', 'lizard', 'paper', 'spock', 'spock', 'paper', 'rock', 'lizard', 'paper', 'paper', 'spock', 'scissors', 'paper', 'lizard', 'paper', 'lizard', 'scissors', 'paper', 'spock', 'spock', 'scissors', 'scissors', 'rock', 'paper', 'lizard', 'scissors', 'lizard', 'paper', 'scissors', 'paper', 'rock', 'spock', 'scissors', 'spock', 'scissors', 'lizard', 'spock', 'spock', 'spock', 'scissors', 'rock', 'paper', 'rock', 'lizard', 'scissors', 'lizard', 'rock', 'paper', 'rock', 'rock', 'scissors', 'scissors', 'paper', 'rock', 'lizard', 'spock', 'scissors', 'rock', 'rock', 'lizard', 'rock', 'paper', 'rock', 'rock', 'lizard', 'lizard', 'rock', 'lizard', 'rock', 'rock', 'rock', 'spock', 'rock', 'spock', 'rock', 'spock', 'spock', 'lizard', 'rock', 'lizard', 'paper', 'paper', 'rock', 'paper', 'spock', 'rock', 'rock', 'rock', 'paper', 'scissors', 'rock', 'rock', 'scissors', 'spock', 'lizard', 'spock', 'scissors', 'rock', 'scissors', 'lizard', 'rock', 'rock', 'lizard', 'scissors', 'scissors', 'paper', 'scissors', 'spock', 'rock', 'lizard', 'rock', 'rock', 'spock', 'scissors', 'paper', 'paper', 'rock', 'paper', 'spock', 'scissors', 'scissors', 'paper', 'paper', 'lizard', 'lizard', 'spock', 'paper', 'rock', 'scissors', 'scissors', 'lizard', 'lizard', 'spock', 'rock', 'scissors', 'rock', 'spock', 'lizard', 'paper', 'lizard', 'rock', 'scissors', 'rock', 'scissors', 'paper', 'lizard', 'lizard', 'spock', 'rock', 'paper', 'lizard', 'paper', 'paper', 'scissors', 'spock', 'paper', 'scissors', 'spock', 'scissors', 'scissors', 'lizard', 'rock', 'lizard', 'scissors', 'scissors', 'scissors', 'spock', 'spock', 'paper', 'lizard', 'lizard', 'paper', 'rock', 'scissors', 'rock', 'scissors', 'spock', 'lizard', 'lizard', 'paper', 'rock', 'lizard', 'spock', 'scissors', 'lizard', 'lizard', 'lizard', 'lizard', 'lizard', 'rock', 'rock', 'lizard', 'lizard', 'spock', 'spock', 'scissors', 'rock', 'paper', 'paper', 'paper', 'spock', 'paper', 'paper', 'lizard', 'scissors', 'paper', 'lizard', 'paper', 'scissors', 'spock', 'paper', 'lizard', 'lizard', 'rock', 'scissors', 'rock', 'paper', 'lizard', 'lizard', 'paper', 'paper', 'paper', 'rock', 'lizard', 'scissors', 'paper', 'lizard', 'lizard', 'rock', 'lizard', 'spock', 'scissors', 'scissors', 'rock', 'paper', 'spock', 'rock', 'spock', 'spock', 'rock', 'scissors', 'rock', 'rock', 'paper', 'lizard', 'spock', 'lizard', 'spock', 'rock', 'scissors', 'rock', 'scissors', 'paper', 'lizard', 'scissors', 'rock', 'paper', 'lizard', 'scissors', 'lizard', 'lizard', 'spock', 'paper', 'rock', 'rock', 'spock', 'paper', 'scissors', 'rock', 'lizard', 'paper', 'rock', 'paper', 'scissors', 'rock', 'spock', 'rock', 'lizard', 'lizard', 'rock', 'scissors', 'lizard', 'lizard', 'rock', 'rock', 'scissors', 'rock', 'scissors', 'paper', 'paper', 'spock', 'lizard', 'lizard', 'paper', 'rock', 'spock', 'scissors', 'rock', 'scissors', 'lizard', 'spock', 'rock', 'spock', 'lizard', 'paper', 'lizard', 'rock', 'rock', 'paper', 'rock', 'lizard', 'paper', 'scissors', 'scissors', 'spock', 'lizard', 'paper', 'lizard', 'spock', 'lizard', 'lizard', 'scissors', 'rock', 'scissors', 'spock', 'rock', 'spock', 'spock', 'scissors', 'paper', 'paper', 'lizard', 'scissors', 'lizard', 'lizard', 'paper', 'paper', 'spock', 'lizard', 'rock', 'spock', 'rock', 'scissors', 'rock', 'lizard', 'lizard', 'lizard', 'paper', 'lizard', 'spock', 'paper', 'paper', 'spock', 'lizard', 'rock', 'lizard', 'scissors', 'spock', 'spock', 'scissors', 'lizard', 'rock', 'rock', 'spock', 'lizard', 'lizard', 'rock', 'rock', 'paper', 'lizard', 'lizard', 'paper', 'spock', 'scissors', 'paper', 'spock', 'lizard', 'scissors', 'spock', 'paper', 'spock', 'scissors', 'rock', 'scissors', 'rock', 'rock', 'lizard', 'spock', 'spock', 'lizard', 'paper', 'rock', 'paper', 'lizard', 'rock', 'paper', 'lizard', 'lizard', 'scissors', 'lizard', 'scissors', 'paper', 'scissors', 'lizard', 'lizard', 'paper', 'lizard', 'lizard', 'rock', 'lizard', 'scissors', 'rock', 'rock', 'lizard', 'lizard', 'scissors', 'rock', 'paper', 'lizard', 'spock', 'paper', 'scissors', 'spock', 'lizard', 'scissors', 'scissors', 'paper', 'spock', 'rock', 'spock', 'rock', 'scissors', 'lizard', 'paper', 'scissors', 'scissors', 'paper', 'rock', 'spock', 'spock', 'scissors', 'scissors', 'paper', 'rock', 'paper', 'paper', 'rock', 'scissors', 'paper', 'scissors', 'spock', 'lizard', 'paper', 'rock', 'lizard', 'rock', 'spock', 'paper', 'spock', 'lizard', 'paper', 'scissors', 'spock', 'rock', 'paper', 'spock', 'scissors', 'paper', 'scissors', 'spock', 'scissors', 'lizard', 'spock', 'rock', 'scissors', 'spock', 'rock', 'spock', 'scissors', 'spock', 'paper', 'scissors', 'paper', 'spock', 'lizard', 'rock', 'paper', 'rock', 'scissors', 'rock', 'scissors', 'spock', 'paper', 'scissors', 'lizard', 'paper', 'spock', 'spock', 'spock', 'paper', 'rock', 'lizard', 'lizard', 'paper', 'lizard', 'paper', 'rock', 'lizard', 'rock', 'lizard', 'paper', 'paper', 'lizard', 'paper', 'scissors', 'scissors', 'lizard', 'spock', 'lizard', 'lizard', 'rock', 'rock', 'lizard', 'lizard', 'rock', 'spock', 'spock', 'rock', 'scissors', 'spock', 'scissors', 'spock', 'scissors', 'lizard', 'spock', 'rock', 'spock', 'spock', 'lizard', 'spock', 'lizard', 'spock', 'spock', 'rock', 'rock', 'paper', 'lizard', 'rock', 'spock', 'paper', 'spock', 'paper', 'scissors', 'scissors', 'rock', 'scissors', 'scissors', 'rock', 'rock', 'lizard', 'paper', 'spock', 'rock', 'rock', 'scissors', 'spock', 'paper', 'paper', 'lizard', 'spock', 'rock', 'lizard', 'spock', 'scissors', 'scissors', 'paper', 'paper', 'rock', 'spock', 'spock', 'paper', 'lizard', 'rock', 'scissors', 'rock', 'spock', 'paper', 'spock', 'spock', 'rock', 'spock', 'lizard', 'rock', 'rock', 'rock', 'lizard', 'lizard', 'scissors', 'spock', 'paper', 'scissors', 'rock', 'spock', 'spock', 'spock', 'spock', 'lizard', 'scissors', 'spock', 'paper', 'lizard', 'paper', 'scissors', 'paper', 'lizard', 'spock', 'rock', 'scissors', 'rock', 'spock', 'scissors', 'spock', 'rock', 'lizard', 'paper', 'lizard', 'lizard', 'rock', 'rock', 'rock', 'lizard', 'scissors', 'lizard', 'scissors', 'scissors', 'paper', 'rock', 'lizard', 'lizard', 'spock', 'rock', 'paper', 'spock', 'paper', 'lizard', 'rock', 'spock', 'lizard', 'scissors', 'scissors', 'lizard', 'lizard', 'spock', 'rock', 'scissors', 'lizard', 'spock', 'spock', 'rock', 'rock', 'lizard', 'lizard', 'scissors', 'rock', 'spock', 'scissors', 'scissors', 'lizard', 'lizard', 'paper', 'paper', 'spock', 'paper', 'rock', 'spock', 'rock', 'paper', 'paper', 'lizard', 'paper', 'scissors', 'paper', 'scissors', 'scissors', 'spock', 'spock', 'spock', 'scissors', 'paper', 'lizard', 'scissors', 'spock', 'spock', 'lizard', 'spock', 'paper', 'paper', 'paper', 'spock', 'spock', 'scissors', 'spock', 'lizard', 'rock', 'lizard', 'rock', 'rock', 'rock', 'rock', 'rock', 'lizard', 'lizard', 'rock', 'lizard', 'scissors', 'spock', 'rock', 'scissors', 'rock', 'lizard', 'spock', 'lizard', 'paper', 'rock', 'spock', 'scissors', 'paper', 'paper', 'spock', 'rock', 'paper', 'lizard', 'lizard', 'lizard', 'lizard', 'scissors', 'spock', 'scissors', 'scissors', 'rock', 'spock', 'lizard', 'paper', 'scissors', 'lizard', 'paper', 'lizard', 'lizard', 'spock', 'scissors', 'spock', 'scissors', 'lizard', 'lizard', 'spock', 'rock', 'paper', 'scissors', 'scissors', 'lizard', 'paper', 'paper', 'paper', 'scissors', 'lizard', 'rock', 'paper', 'scissors', 'spock', 'rock', 'paper', 'scissors', 'paper', 'rock', 'paper', 'paper', 'scissors', 'paper', 'spock', 'lizard', 'paper', 'spock', 'scissors', 'scissors', 'rock', 'lizard', 'scissors', 'scissors', 'lizard', 'lizard', 'paper', 'spock', 'rock', 'rock', 'lizard', 'lizard', 'rock', 'spock', 'lizard', 'rock']\n"
          ]
        }
      ]
    },
    {
      "cell_type": "code",
      "source": [
        "# To help with modeling, convert string to numbers.\n",
        "# Define a dictionary to map states to numbers.\n",
        "state_to_number = {\"rock\": 0, \"paper\": 1, \"scissors\": 2, \"lizard\": 3, \"spock\": 4}\n",
        "\n",
        "# Convert the list of states to a list of corresponding numbers.\n",
        "states_encoded = [state_to_number[state] for state in states]"
      ],
      "metadata": {
        "id": "zeLgC33zfPQU"
      },
      "execution_count": 8,
      "outputs": []
    },
    {
      "cell_type": "code",
      "source": [
        "# Verifying the conversion was successful.\n",
        "print(states_encoded)"
      ],
      "metadata": {
        "colab": {
          "base_uri": "https://localhost:8080/"
        },
        "id": "0zBaut_Zf1zK",
        "outputId": "4ebfb39b-277e-44cd-ce83-431ef7f43089"
      },
      "execution_count": 9,
      "outputs": [
        {
          "output_type": "stream",
          "name": "stdout",
          "text": [
            "[3, 1, 2, 0, 3, 2, 1, 2, 0, 1, 2, 0, 0, 1, 1, 1, 1, 3, 1, 0, 0, 0, 2, 4, 3, 0, 2, 2, 3, 4, 4, 0, 4, 2, 1, 3, 1, 0, 3, 4, 0, 4, 2, 1, 2, 3, 2, 2, 4, 2, 0, 1, 0, 2, 0, 1, 0, 3, 3, 4, 0, 0, 0, 0, 1, 4, 3, 1, 1, 1, 3, 1, 1, 0, 3, 3, 0, 0, 3, 0, 1, 3, 2, 3, 1, 1, 4, 4, 0, 2, 1, 0, 4, 1, 1, 2, 1, 2, 2, 3, 2, 2, 3, 1, 2, 3, 1, 3, 2, 3, 2, 3, 3, 0, 4, 4, 4, 2, 0, 4, 0, 3, 1, 3, 4, 1, 3, 3, 2, 0, 0, 0, 4, 4, 1, 1, 1, 2, 4, 4, 0, 1, 4, 3, 2, 0, 4, 1, 1, 0, 1, 1, 3, 2, 2, 2, 2, 4, 4, 3, 0, 1, 3, 1, 4, 3, 1, 4, 1, 3, 3, 0, 0, 2, 0, 3, 3, 3, 4, 0, 4, 2, 1, 0, 0, 0, 4, 4, 2, 3, 1, 2, 1, 3, 4, 0, 0, 1, 1, 0, 1, 1, 0, 3, 1, 2, 3, 0, 2, 4, 2, 0, 1, 3, 0, 3, 1, 1, 2, 4, 2, 4, 1, 2, 2, 4, 0, 1, 0, 2, 0, 3, 3, 0, 1, 1, 3, 2, 2, 2, 2, 1, 2, 2, 1, 3, 4, 3, 0, 2, 1, 3, 2, 1, 3, 3, 3, 2, 3, 2, 2, 3, 0, 3, 4, 2, 3, 4, 3, 1, 4, 4, 2, 2, 4, 3, 1, 4, 1, 1, 1, 0, 2, 1, 0, 2, 3, 1, 4, 1, 4, 1, 3, 0, 1, 4, 3, 4, 0, 4, 0, 0, 1, 4, 0, 0, 2, 4, 0, 0, 3, 1, 1, 1, 4, 0, 0, 1, 2, 4, 0, 3, 2, 2, 1, 0, 0, 1, 3, 4, 4, 2, 4, 1, 0, 0, 0, 0, 0, 1, 2, 3, 1, 3, 1, 1, 2, 4, 2, 4, 4, 3, 1, 1, 2, 3, 0, 1, 4, 4, 3, 1, 0, 4, 4, 0, 4, 0, 1, 2, 0, 1, 3, 1, 2, 2, 1, 2, 0, 3, 4, 3, 4, 0, 2, 4, 2, 4, 2, 0, 0, 2, 2, 3, 2, 2, 0, 4, 4, 0, 3, 4, 3, 0, 0, 3, 0, 4, 3, 3, 1, 3, 0, 4, 1, 1, 4, 2, 2, 3, 1, 2, 4, 0, 3, 1, 4, 1, 3, 0, 2, 3, 0, 4, 1, 4, 3, 2, 2, 3, 2, 2, 3, 0, 3, 4, 2, 2, 2, 0, 1, 1, 4, 1, 4, 4, 3, 3, 0, 4, 1, 2, 0, 2, 4, 3, 4, 1, 4, 3, 4, 0, 4, 1, 3, 3, 2, 0, 4, 4, 2, 2, 0, 3, 4, 4, 3, 3, 4, 0, 1, 3, 2, 2, 3, 3, 1, 3, 4, 0, 1, 4, 0, 2, 0, 0, 1, 2, 4, 2, 3, 3, 3, 2, 0, 1, 3, 0, 3, 3, 0, 3, 0, 2, 2, 3, 4, 2, 4, 4, 0, 1, 3, 2, 2, 1, 0, 0, 1, 0, 1, 1, 4, 2, 3, 2, 4, 2, 1, 3, 0, 3, 0, 4, 4, 2, 1, 3, 0, 0, 0, 1, 4, 1, 0, 4, 1, 2, 4, 1, 3, 4, 1, 1, 3, 4, 2, 1, 2, 3, 0, 4, 3, 1, 1, 1, 1, 3, 0, 4, 4, 2, 1, 3, 3, 4, 0, 3, 4, 3, 0, 3, 2, 0, 0, 2, 0, 3, 3, 4, 3, 1, 2, 0, 4, 4, 4, 4, 3, 3, 4, 0, 1, 3, 3, 0, 4, 4, 0, 3, 1, 0, 1, 2, 1, 3, 3, 4, 4, 0, 0, 2, 0, 0, 3, 3, 4, 4, 3, 0, 1, 2, 0, 4, 2, 1, 3, 2, 4, 4, 1, 2, 2, 4, 1, 3, 1, 1, 1, 0, 2, 0, 0, 1, 4, 0, 0, 0, 2, 1, 4, 0, 3, 1, 3, 3, 0, 0, 4, 3, 0, 1, 1, 4, 0, 3, 2, 1, 3, 3, 4, 2, 1, 1, 2, 3, 3, 3, 1, 1, 3, 2, 2, 2, 3, 1, 3, 2, 3, 3, 0, 3, 1, 4, 1, 2, 3, 0, 1, 0, 0, 4, 2, 2, 1, 0, 2, 2, 0, 0, 0, 1, 2, 0, 2, 0, 1, 2, 1, 1, 1, 4, 1, 0, 0, 2, 2, 2, 0, 2, 1, 0, 3, 1, 1, 1, 4, 1, 4, 4, 0, 1, 1, 2, 0, 4, 1, 4, 0, 2, 3, 4, 4, 3, 1, 2, 4, 0, 3, 4, 4, 3, 0, 2, 4, 3, 3, 1, 1, 2, 3, 2, 0, 4, 0, 2, 0, 3, 1, 2, 2, 1, 0, 2, 0, 2, 4, 4, 3, 3, 3, 0, 4, 1, 1, 2, 2, 1, 0, 0, 4, 4, 3, 3, 0, 4, 1, 1, 3, 2, 4, 3, 2, 2, 2, 3, 1, 3, 0, 3, 2, 0, 4, 2, 0, 4, 2, 1, 3, 2, 3, 2, 2, 3, 2, 3, 2, 0, 1, 1, 3, 3, 0, 4, 0, 2, 0, 3, 2, 3, 0, 4, 3, 2, 2, 4, 3, 0, 4, 3, 0, 0, 4, 0, 4, 1, 2, 2, 0, 0, 4, 4, 1, 0, 4, 1, 4, 1, 3, 0, 3, 4, 1, 1, 4, 4, 0, 2, 0, 2, 2, 3, 1, 0, 3, 0, 0, 3, 0, 2, 4, 0, 1, 0, 2, 3, 1, 4, 0, 0, 1, 1, 4, 0, 3, 0, 4, 3, 0, 3, 4, 0, 3, 1, 2, 3, 3, 2, 1, 1, 3, 1, 4, 0, 1, 3, 2, 3, 4, 0, 3, 4, 1, 3, 2, 2, 4, 2, 3, 1, 2, 2, 1, 1, 1, 0, 3, 4, 1, 4, 3, 2, 3, 2, 3, 0, 0, 3, 0, 3, 3, 0, 2, 4, 2, 4, 2, 1, 2, 3, 0, 0, 1, 0, 3, 1, 3, 2, 1, 4, 3, 0, 0, 4, 3, 1, 1, 4, 0, 0, 4, 3, 2, 3, 3, 1, 3, 0, 0, 4, 4, 0, 4, 3, 4, 3, 4, 1, 3, 0, 1, 3, 4, 4, 4, 4, 1, 1, 4, 2, 2, 0, 0, 2, 1, 4, 0, 3, 2, 4, 3, 2, 4, 4, 1, 0, 4, 0, 2, 2, 0, 0, 0, 4, 3, 3, 0, 3, 4, 2, 2, 3, 0, 2, 3, 3, 3, 2, 4, 1, 1, 1, 1, 3, 2, 0, 3, 1, 0, 3, 3, 0, 1, 1, 4, 0, 3, 3, 3, 2, 2, 4, 3, 1, 4, 1, 4, 3, 4, 1, 0, 4, 4, 4, 0, 3, 3, 4, 1, 1, 0, 2, 1, 2, 4, 1, 3, 0, 1, 2, 2, 1, 4, 0, 2, 3, 0, 4, 4, 3, 4, 4, 3, 3, 4, 1, 3, 2, 3, 3, 0, 2, 1, 4, 0, 3, 0, 2, 3, 0, 1, 4, 0, 2, 2, 2, 2, 3, 4, 1, 1, 1, 3, 1, 0, 0, 3, 3, 3, 0, 1, 3, 1, 1, 2, 4, 0, 2, 1, 2, 4, 2, 2, 1, 2, 3, 4, 4, 4, 3, 0, 1, 4, 4, 2, 1, 3, 3, 4, 1, 1, 4, 2, 3, 0, 2, 4, 0, 3, 2, 2, 1, 2, 4, 0, 1, 3, 0, 4, 0, 0, 2, 2, 0, 3, 0, 0, 2, 0, 3, 4, 2, 1, 0, 2, 2, 3, 4, 1, 3, 1, 1, 3, 4, 2, 1, 3, 3, 2, 3, 4, 0, 1, 0, 0, 1, 4, 2, 4, 0, 2, 1, 3, 2, 1, 0, 0, 4, 1, 1, 4, 1, 4, 2, 4, 0, 0, 4, 4, 1, 3, 2, 1, 4, 1, 3, 2, 0, 2, 3, 4, 1, 4, 2, 4, 4, 3, 0, 2, 4, 3, 2, 3, 1, 4, 0, 3, 1, 4, 3, 1, 3, 3, 1, 1, 1, 4, 0, 0, 2, 2, 1, 3, 2, 1, 4, 2, 1, 2, 3, 1, 0, 4, 1, 2, 2, 1, 4, 1, 0, 3, 0, 3, 1, 1, 3, 4, 3, 3, 2, 1, 2, 2, 4, 3, 4, 1, 3, 3, 0, 3, 1, 2, 2, 0, 3, 2, 1, 0, 3, 4, 3, 3, 0, 2, 4, 0, 4, 3, 2, 4, 0, 0, 2, 0, 4, 2, 0, 2, 0, 4, 0, 3, 0, 0, 1, 3, 1, 0, 4, 0, 1, 2, 3, 0, 3, 3, 0, 1, 4, 3, 4, 2, 1, 3, 1, 2, 2, 0, 0, 0, 1, 1, 0, 1, 2, 1, 0, 0, 2, 1, 4, 3, 2, 3, 0, 3, 4, 1, 3, 3, 3, 1, 4, 2, 3, 0, 1, 4, 2, 4, 4, 4, 4, 1, 0, 0, 2, 0, 1, 4, 3, 3, 1, 4, 2, 3, 1, 4, 2, 0, 4, 1, 4, 3, 1, 0, 2, 4, 1, 4, 4, 4, 1, 4, 4, 2, 2, 0, 4, 0, 0, 3, 0, 2, 3, 3, 4, 3, 4, 3, 4, 0, 1, 4, 0, 0, 2, 0, 2, 0, 0, 3, 0, 4, 2, 1, 0, 3, 2, 4, 3, 1, 3, 2, 4, 0, 0, 1, 0, 4, 0, 0, 0, 2, 4, 4, 3, 2, 2, 4, 4, 2, 3, 0, 2, 2, 1, 1, 3, 3, 1, 3, 0, 2, 2, 4, 4, 4, 1, 4, 4, 4, 2, 4, 4, 1, 4, 1, 2, 3, 0, 3, 3, 2, 3, 1, 4, 4, 4, 4, 2, 3, 3, 4, 0, 0, 1, 0, 1, 3, 1, 0, 1, 4, 2, 3, 4, 4, 3, 4, 4, 0, 3, 2, 0, 3, 4, 3, 4, 4, 4, 0, 4, 1, 1, 1, 2, 1, 0, 0, 4, 2, 3, 1, 3, 1, 4, 3, 4, 1, 2, 0, 4, 0, 1, 4, 0, 0, 0, 4, 1, 2, 2, 2, 1, 0, 3, 4, 0, 1, 3, 0, 0, 3, 1, 0, 3, 2, 2, 2, 1, 0, 3, 0, 3, 1, 1, 4, 2, 1, 3, 1, 4, 4, 1, 0, 3, 1, 1, 4, 2, 1, 3, 1, 3, 2, 1, 4, 4, 2, 2, 0, 1, 3, 2, 3, 1, 2, 1, 0, 4, 2, 4, 2, 3, 4, 4, 4, 2, 0, 1, 0, 3, 2, 3, 0, 1, 0, 0, 2, 2, 1, 0, 3, 4, 2, 0, 0, 3, 0, 1, 0, 0, 3, 3, 0, 3, 0, 0, 0, 4, 0, 4, 0, 4, 4, 3, 0, 3, 1, 1, 0, 1, 4, 0, 0, 0, 1, 2, 0, 0, 2, 4, 3, 4, 2, 0, 2, 3, 0, 0, 3, 2, 2, 1, 2, 4, 0, 3, 0, 0, 4, 2, 1, 1, 0, 1, 4, 2, 2, 1, 1, 3, 3, 4, 1, 0, 2, 2, 3, 3, 4, 0, 2, 0, 4, 3, 1, 3, 0, 2, 0, 2, 1, 3, 3, 4, 0, 1, 3, 1, 1, 2, 4, 1, 2, 4, 2, 2, 3, 0, 3, 2, 2, 2, 4, 4, 1, 3, 3, 1, 0, 2, 0, 2, 4, 3, 3, 1, 0, 3, 4, 2, 3, 3, 3, 3, 3, 0, 0, 3, 3, 4, 4, 2, 0, 1, 1, 1, 4, 1, 1, 3, 2, 1, 3, 1, 2, 4, 1, 3, 3, 0, 2, 0, 1, 3, 3, 1, 1, 1, 0, 3, 2, 1, 3, 3, 0, 3, 4, 2, 2, 0, 1, 4, 0, 4, 4, 0, 2, 0, 0, 1, 3, 4, 3, 4, 0, 2, 0, 2, 1, 3, 2, 0, 1, 3, 2, 3, 3, 4, 1, 0, 0, 4, 1, 2, 0, 3, 1, 0, 1, 2, 0, 4, 0, 3, 3, 0, 2, 3, 3, 0, 0, 2, 0, 2, 1, 1, 4, 3, 3, 1, 0, 4, 2, 0, 2, 3, 4, 0, 4, 3, 1, 3, 0, 0, 1, 0, 3, 1, 2, 2, 4, 3, 1, 3, 4, 3, 3, 2, 0, 2, 4, 0, 4, 4, 2, 1, 1, 3, 2, 3, 3, 1, 1, 4, 3, 0, 4, 0, 2, 0, 3, 3, 3, 1, 3, 4, 1, 1, 4, 3, 0, 3, 2, 4, 4, 2, 3, 0, 0, 4, 3, 3, 0, 0, 1, 3, 3, 1, 4, 2, 1, 4, 3, 2, 4, 1, 4, 2, 0, 2, 0, 0, 3, 4, 4, 3, 1, 0, 1, 3, 0, 1, 3, 3, 2, 3, 2, 1, 2, 3, 3, 1, 3, 3, 0, 3, 2, 0, 0, 3, 3, 2, 0, 1, 3, 4, 1, 2, 4, 3, 2, 2, 1, 4, 0, 4, 0, 2, 3, 1, 2, 2, 1, 0, 4, 4, 2, 2, 1, 0, 1, 1, 0, 2, 1, 2, 4, 3, 1, 0, 3, 0, 4, 1, 4, 3, 1, 2, 4, 0, 1, 4, 2, 1, 2, 4, 2, 3, 4, 0, 2, 4, 0, 4, 2, 4, 1, 2, 1, 4, 3, 0, 1, 0, 2, 0, 2, 4, 1, 2, 3, 1, 4, 4, 4, 1, 0, 3, 3, 1, 3, 1, 0, 3, 0, 3, 1, 1, 3, 1, 2, 2, 3, 4, 3, 3, 0, 0, 3, 3, 0, 4, 4, 0, 2, 4, 2, 4, 2, 3, 4, 0, 4, 4, 3, 4, 3, 4, 4, 0, 0, 1, 3, 0, 4, 1, 4, 1, 2, 2, 0, 2, 2, 0, 0, 3, 1, 4, 0, 0, 2, 4, 1, 1, 3, 4, 0, 3, 4, 2, 2, 1, 1, 0, 4, 4, 1, 3, 0, 2, 0, 4, 1, 4, 4, 0, 4, 3, 0, 0, 0, 3, 3, 2, 4, 1, 2, 0, 4, 4, 4, 4, 3, 2, 4, 1, 3, 1, 2, 1, 3, 4, 0, 2, 0, 4, 2, 4, 0, 3, 1, 3, 3, 0, 0, 0, 3, 2, 3, 2, 2, 1, 0, 3, 3, 4, 0, 1, 4, 1, 3, 0, 4, 3, 2, 2, 3, 3, 4, 0, 2, 3, 4, 4, 0, 0, 3, 3, 2, 0, 4, 2, 2, 3, 3, 1, 1, 4, 1, 0, 4, 0, 1, 1, 3, 1, 2, 1, 2, 2, 4, 4, 4, 2, 1, 3, 2, 4, 4, 3, 4, 1, 1, 1, 4, 4, 2, 4, 3, 0, 3, 0, 0, 0, 0, 0, 3, 3, 0, 3, 2, 4, 0, 2, 0, 3, 4, 3, 1, 0, 4, 2, 1, 1, 4, 0, 1, 3, 3, 3, 3, 2, 4, 2, 2, 0, 4, 3, 1, 2, 3, 1, 3, 3, 4, 2, 4, 2, 3, 3, 4, 0, 1, 2, 2, 3, 1, 1, 1, 2, 3, 0, 1, 2, 4, 0, 1, 2, 1, 0, 1, 1, 2, 1, 4, 3, 1, 4, 2, 2, 0, 3, 2, 2, 3, 3, 1, 4, 0, 0, 3, 3, 0, 4, 3, 0]\n"
          ]
        }
      ]
    },
    {
      "cell_type": "code",
      "source": [
        "# Verifying rewards.\n",
        "print(rewards)"
      ],
      "metadata": {
        "colab": {
          "base_uri": "https://localhost:8080/"
        },
        "id": "GrnXyRW2e318",
        "outputId": "9bdd668c-6529-41dd-9ae9-b76cd6601854"
      },
      "execution_count": 10,
      "outputs": [
        {
          "output_type": "stream",
          "name": "stdout",
          "text": [
            "[0, 0, 1, -1, 1, 1, 1, 1, 1, -1, 0, -1, -1, 0, 1, -1, -1, 1, -1, -1, 1, -1, 1, 1, -1, -1, 1, -1, -1, 1, -1, 1, -1, -1, -1, 0, 1, -1, -1, -1, 0, 1, 1, 0, 1, -1, -1, -1, -1, 0, 1, 1, 0, -1, -1, -1, 1, 1, -1, -1, 1, 1, -1, 0, 0, -1, 1, -1, -1, -1, 1, 1, -1, -1, 0, 1, -1, 1, 1, 1, 1, 1, -1, 0, 1, -1, 0, 0, 1, 0, 1, 0, 1, 0, 0, -1, 1, 1, 0, 1, -1, 1, 0, 1, -1, 1, -1, 1, 1, -1, 1, 1, 1, 0, 1, 0, 0, 1, 1, 0, -1, 1, -1, 1, 1, 0, 0, 1, 0, -1, 1, -1, 1, 0, -1, -1, 1, 0, 1, 1, 0, -1, 1, -1, 0, 0, -1, -1, 1, -1, 0, 1, -1, 1, -1, -1, -1, 1, 1, 1, -1, 1, 1, 0, 1, 1, 1, 1, -1, 1, -1, -1, -1, 0, 1, -1, 1, 1, -1, 1, -1, -1, 1, 1, 0, 1, 1, -1, -1, 1, 1, 1, -1, 0, 1, 0, 1, 1, 1, 1, -1, -1, -1, -1, 0, 1, 1, 1, 1, 1, 0, 1, 0, 1, -1, 1, -1, -1, -1, -1, 1, -1, 1, 0, -1, 1, -1, -1, -1, 1, 1, 0, 1, -1, 1, 0, -1, 1, -1, 1, 1, 0, 1, -1, 1, -1, 1, 1, 1, 1, 1, 1, -1, -1, 1, -1, -1, 0, -1, -1, 0, -1, -1, 1, 1, 1, 0, -1, 0, -1, 1, 0, 1, -1, 1, -1, 1, 1, 1, 1, -1, -1, -1, -1, 0, -1, 1, 1, -1, -1, -1, 1, -1, -1, 0, -1, 1, 0, -1, 0, 0, -1, 1, -1, 1, 0, 0, -1, 1, 0, 0, -1, 1, 1, -1, 1, -1, -1, 0, 1, 0, -1, 0, 1, 1, 1, 0, 1, 1, 1, 1, -1, -1, -1, 0, 1, 1, 0, 1, 0, -1, 1, 1, -1, 1, -1, 0, -1, 0, -1, -1, 1, 1, -1, -1, 0, 0, 0, 0, 0, -1, -1, -1, -1, 1, 1, 0, 0, 1, 1, -1, 1, -1, 1, 1, -1, 1, 1, 1, -1, 1, 1, 0, 1, -1, 1, -1, -1, -1, 1, 1, 0, -1, -1, 1, 1, -1, 1, -1, 0, 0, 1, -1, 1, -1, -1, -1, 0, -1, -1, 1, 0, -1, -1, 0, 1, -1, 1, -1, 1, -1, -1, 0, -1, 0, 0, -1, -1, -1, -1, 1, 1, 1, 1, -1, -1, -1, -1, -1, 1, 1, -1, 1, 1, -1, 1, -1, 0, 0, -1, 1, 1, 1, -1, 0, 1, -1, -1, -1, -1, -1, 0, 1, 1, -1, 0, 1, 1, -1, -1, 0, 1, 0, 1, -1, 0, 1, 1, -1, 1, -1, -1, 1, 1, -1, -1, 1, -1, -1, 1, 1, 1, -1, 0, 1, -1, 0, -1, 0, 1, 0, 0, 1, 0, 0, -1, -1, 0, -1, 1, -1, 0, 1, -1, -1, 1, -1, 0, 1, -1, -1, -1, -1, -1, 1, 1, -1, -1, 0, -1, 1, 0, -1, 1, -1, 1, -1, -1, 1, -1, 1, 1, -1, 1, 1, -1, -1, -1, 1, -1, 1, 1, 1, -1, 1, 1, -1, 1, -1, -1, 1, 1, 1, 1, 1, -1, -1, 1, -1, -1, 1, 1, 1, -1, 0, 1, -1, 0, -1, 1, -1, 1, 0, 1, 1, 1, 0, 1, 1, -1, 1, 0, 1, -1, 1, -1, 1, -1, 1, -1, 0, -1, 0, 1, 1, 1, 1, -1, 1, 0, 0, 0, 1, -1, 0, 0, 0, -1, -1, 1, 1, -1, -1, 1, 0, -1, -1, 1, -1, 0, -1, 1, -1, 1, 1, 0, 0, -1, 1, 0, 1, 1, 1, 1, 0, 1, 0, 1, -1, 0, 0, -1, 0, 1, 1, 0, -1, 0, 1, -1, -1, 1, 1, 1, 1, 1, 1, 1, 0, 1, 1, 0, 1, -1, 1, -1, -1, 0, -1, 0, 1, 0, 1, 1, 1, 1, -1, 1, 0, 1, 1, -1, -1, -1, 1, -1, 1, 1, -1, 0, -1, 0, 0, -1, -1, 1, -1, 1, -1, -1, -1, 1, 1, 1, 1, 0, 1, -1, 1, -1, 0, 1, -1, 0, -1, 0, -1, -1, 0, 0, 0, -1, 1, 1, 0, -1, 1, 0, -1, 1, -1, 1, 1, 0, -1, -1, -1, 0, 0, 1, 0, -1, 1, 1, -1, -1, -1, 1, -1, -1, 1, 1, -1, 0, 1, -1, 1, 1, -1, -1, 0, 0, 0, 1, 1, -1, 1, 1, 0, 0, -1, -1, 0, 1, -1, 1, 0, -1, -1, -1, -1, 0, 0, 0, -1, -1, -1, 0, -1, -1, 1, 0, 0, 1, -1, -1, 1, -1, 0, 0, -1, 0, 1, 1, 0, -1, 0, -1, -1, -1, -1, 1, 0, -1, -1, -1, 1, 0, 1, 1, 0, -1, -1, -1, 0, 0, 0, 0, -1, 1, 0, 0, -1, 0, 1, 0, 0, 0, -1, 1, 1, -1, 1, -1, -1, 0, -1, -1, 1, 0, 0, 0, -1, 1, -1, 0, 1, 0, 1, 0, 1, 1, 0, 1, -1, 1, 0, 1, 1, 1, 1, 0, 0, -1, -1, -1, 1, 1, 0, 1, -1, 0, 1, 1, 0, 1, 0, 1, 1, 0, -1, 1, -1, -1, 1, -1, 0, -1, 1, 1, 0, -1, -1, -1, -1, 1, 0, 1, 0, 1, -1, -1, -1, -1, -1, 1, -1, -1, 0, 0, -1, 0, 1, 1, -1, 0, 1, 0, 0, 0, 1, 0, 0, -1, 0, -1, 1, 1, -1, 1, 0, 0, 1, 1, -1, -1, 1, 1, 1, -1, 0, -1, -1, -1, 1, -1, -1, 1, -1, 0, -1, 1, 1, -1, -1, 1, -1, 1, 1, -1, 1, -1, 1, 1, 1, 0, -1, -1, -1, -1, -1, 0, -1, -1, 1, 1, -1, -1, -1, 1, 1, 1, -1, 0, 0, 0, 1, 1, -1, 1, 1, 0, 1, 0, 1, 1, -1, 0, -1, -1, -1, -1, 1, 1, 0, 1, 1, 1, 1, 0, 0, -1, -1, 1, -1, 0, -1, 1, 1, 1, 1, -1, 0, 1, -1, -1, 1, 1, -1, 1, -1, 0, 1, -1, -1, 0, -1, 0, -1, -1, -1, -1, -1, 0, -1, -1, 0, 1, 0, 1, 1, 1, -1, 0, 1, -1, 1, 1, 1, -1, -1, -1, -1, 1, 0, 0, 1, -1, 1, 1, -1, 1, 1, -1, -1, 1, 1, 1, 1, 1, 1, -1, -1, 1, 1, 1, 0, -1, -1, 1, -1, 1, -1, 1, -1, 1, 0, -1, -1, -1, 0, -1, 1, 1, 1, 0, -1, 0, 1, 1, 1, -1, 1, -1, -1, -1, -1, 1, 1, -1, 1, -1, 1, 0, 1, 1, 0, 0, 0, 1, 0, 0, 1, -1, 1, -1, 1, -1, -1, 0, 0, 1, 0, 1, 1, 1, 1, 1, 1, -1, 1, 0, 1, 1, -1, 1, -1, 1, -1, -1, 0, -1, -1, -1, 1, -1, -1, 1, -1, -1, 0, 0, -1, -1, 1, -1, -1, -1, 1, -1, 0, -1, 0, 0, 1, -1, -1, -1, -1, -1, 1, 0, -1, -1, -1, 0, -1, 1, -1, 1, 0, 1, 1, 1, -1, -1, 0, 1, -1, 0, 1, -1, 0, -1, 1, 1, -1, 1, 1, -1, -1, -1, 1, -1, -1, 0, -1, 1, 1, 1, 1, 1, -1, -1, 1, -1, -1, -1, -1, -1, 0, 1, 0, 1, -1, -1, 1, -1, 0, -1, -1, 0, -1, 1, 1, 1, 1, -1, -1, 0, 1, 1, -1, 1, 1, -1, -1, 1, 1, 0, -1, 1, -1, 1, 1, 0, -1, 1, -1, 1, 0, -1, 1, 0, 1, 0, 1, 0, -1, 1, -1, 0, -1, -1, -1, 1, 1, 1, 1, 1, 0, -1, 0, -1, 1, 1, 0, -1, -1, -1, 1, -1, -1, 1, -1, 1, 0, -1, 1, -1, 1, -1, 0, -1, -1, 1, 1, 0, -1, 1, 0, 0, -1, -1, 0, -1, 0, -1, -1, -1, -1, -1, -1, -1, 1, 0, 0, 0, -1, -1, 1, 1, 0, -1, 1, 0, 1, -1, -1, 1, -1, 1, 1, 1, 0, 0, -1, 0, 1, -1, 0, -1, -1, 1, -1, 1, 1, -1, 0, 0, 1, 1, 0, 1, 1, 1, -1, -1, 1, -1, 1, -1, -1, 0, -1, 1, 1, -1, 0, 0, -1, -1, -1, 1, -1, 0, 1, -1, -1, 0, -1, -1, -1, 1, -1, 1, 1, 1, 1, 1, -1, -1, -1, 1, 1, 0, 0, 0, 1, -1, 1, 1, 0, 1, 0, 1, 0, -1, -1, -1, 1, -1, -1, 1, 0, -1, 1, 1, 1, -1, 1, 0, 0, 1, 1, 1, 0, 0, 1, -1, -1, -1, -1, 1, 0, 0, 0, 1, 0, 1, 0, -1, 1, -1, 1, 0, 1, -1, 1, 0, 1, 1, 1, 1, 0, 1, -1, 1, 0, -1, 1, 1, 1, -1, -1, 1, 1, 1, 1, -1, 1, -1, -1, 1, -1, 1, -1, 1, 0, 0, -1, 1, -1, -1, 1, -1, -1, -1, 0, 0, -1, 0, 1, 1, -1, 0, 1, 1, 1, 0, 1, 1, -1, 1, -1, 1, -1, 1, 0, -1, 1, -1, 1, -1, 1, 1, -1, 1, -1, 1, 1, 0, -1, -1, 0, -1, 1, -1, 1, 1, 0, 1, -1, -1, 0, -1, -1, -1, -1, 1, 1, 1, 1, -1, -1, 1, 1, -1, 1, 1, 1, 1, 0, 1, -1, -1, 0, -1, 0, -1, -1, -1, -1, 1, 0, 0, 0, 1, 0, 1, -1, -1, 1, 0, -1, -1, 0, 1, 0, -1, -1, 0, 1, -1, -1, 1, -1, -1, 1, -1, 0, 0, 1, 0, 0, -1, -1, 0, -1, 1, -1, -1, -1, 1, 0, 1, 1, 1, -1, -1, -1, 1, 0, 1, -1, 1, 1, 1, 0, -1, 1, -1, -1, 0, -1, 0, -1, 1, 1, -1, 1, 1, -1, -1, -1, 1, 1, 1, 1, 1, -1, 1, 1, 1, -1, 1, 1, 0, 1, 1, -1, 1, 0, -1, 1, 1, 1, -1, 1, -1, 0, 0, -1, 0, 0, 1, -1, -1, 0, 1, -1, 0, 0, -1, -1, 1, 1, -1, -1, -1, -1, -1, 0, 1, 1, -1, 1, -1, -1, -1, 1, 1, 0, 1, 0, -1, 1, 1, -1, -1, -1, -1, 1, -1, -1, 1, 1, 0, 1, 1, -1, -1, 1, -1, 1, 1, 0, -1, 1, -1, 1, 0, 1, 1, -1, -1, -1, 1, -1, -1, 0, 1, -1, 0, 0, -1, -1, 1, 1, -1, -1, -1, 1, 1, 1, 1, -1, 0, -1, -1, 1, 0, 0, -1, 1, 0, 1, 1, -1, -1, -1, 1, -1, -1, 1, 1, -1, -1, 0, 0, -1, 1, 1, 1, 1, -1, -1, 1, -1, -1, -1, -1, 1, 1, -1, 1, -1, 1, -1, 1, -1, 1, 1, 1, -1, -1, 1, -1, 1, -1, 1, -1, 1, 0, 1, 1, 0, 0, 1, -1, 1, -1, -1, -1, 1, 1, -1, -1, 1, 1, -1, -1, -1, 1, -1, -1, -1, -1, -1, -1, -1, -1, 1, -1, -1, 0, 1, -1, 1, 1, 1, -1, 1, 1, -1, 0, -1, -1, -1, 1, -1, 1, 0, 0, -1, 1, 1, 1, 1, -1, -1, -1, 1, 1, -1, -1, 1, 1, 1, 1, 1, -1, -1, 0, 1, -1, -1, 1, 0, -1, -1, -1, -1, 0, 0, -1, 1, 1, 1, -1, -1, -1, -1, 1, -1, -1, -1, 1, 1, -1, 1, -1, 1, -1, 1, 1, 1, -1, 1, -1, 1, -1, 1, -1, 1, 1, 1, 0, 1, -1, -1, 1, 0, 1, -1, 1, 1, -1, -1, -1, -1, 1, 0, 0, 1, 1, -1, -1, 1, -1, -1, -1, -1, -1, 1, -1, -1, 1, 1, 1, -1, 1, -1, -1, 1, -1, -1, 0, -1, 1, -1, -1, 1, 1, -1, 1, 1, 1, -1, 0, 1, 1, 1, 1, -1, 1, -1, 0, -1, 1, 1, -1, 1, -1, -1, 0, -1, -1, 1, -1, -1, 1, 0, 1, 1, 1, -1, -1, 1, 1, 0, 0, 1, -1, -1, 0, 1, -1, 0, 1, -1, 0, -1, -1, 1, -1, -1, 1, 1, -1, 1, -1, 1, -1, 1, -1, -1, 1, -1, 1, 0, -1, 0, 1, 1, 1, 1, -1, -1, 1, 0, -1, -1, 0, 0, -1, 0, 0, 0, 0, 0, -1, 1, -1, -1, 0, 1, 1, 1, 1, 1, -1, 1, -1, -1, -1, -1, -1, -1, 1, 1, 0, -1, -1, -1, -1, -1, -1, -1, 1, -1, -1, 1, 1, -1, -1, 1, 0, 1, -1, 1, 1, -1, -1, 1, 1, 0, -1, 0, -1, 1, -1, 1, -1, 0, 1, -1, -1, 1, 1, 1, 1, -1, -1, 0, -1, -1, -1, 1, 0, 0, -1, 1, 1, 1, 1, 1, 0, 1, -1, 0, 1, 0, 0, 1, 1, -1, 0, 1, 1, -1, 1, -1, 1, -1, 0, -1, 1, 1, 1, 1, -1, 1, 1, 1, 1, -1, -1, -1, -1, 1, 1, -1, 1, 1, 0, -1, 0, -1, 0, 1, 1, 0, 0, 0, 0, -1, 0, 0, -1, -1, -1, -1, -1, 1, -1, 1, -1, 1, 1, -1, 1, 0, -1, 0, 1, -1, 1, -1, -1, 1, -1, 1, -1, 1, 0, 1, -1, -1, 1, 1, 1, 0, 1, -1, -1, -1, 1, 1, 1, -1, -1, -1, -1, -1, -1, 1, 0, -1, 0, 0, -1, 1, 1, 1, 1, 0, 1, 1, 0, -1, 1, 0, 0, 1, 0, -1, -1, 1, -1, 1, 1, -1, -1, 1, -1, 1, -1, 1, -1, 0, 0, -1, -1, 0, 1, -1, -1, -1, -1, 1, -1, 0, -1, 0, 1, 1, -1, 0, 0, 0, -1, 1, 1, -1, 1, -1, 1, -1, 0, -1, -1, 1, -1, -1, 1, -1, 0, 0, 0, 0, -1, 0, 0, 1, 0, 0, 0, -1, -1, 1, 1, 1, 0, -1, -1, 1, 1, 1, 0, 1, -1, 0, 0, -1, 1, 0, -1, 1, -1, 1, -1, -1, -1, 1, 1, 0, -1, -1, 1, -1, 1, 0, 1, 0, -1, 0, -1, 0, -1, 1, -1, -1, 1, 0, 0, 1, 1, -1, 0, 1, 0, -1, 0, -1, -1, -1, 1, 0, 0, -1, -1, 1, 0, 1, -1, -1, 1, 1, -1, 1, -1, 0, 0, 0, 1, -1, 1, -1, -1, 0, 0, -1, 1, 1, 0, -1, -1, 1, -1, -1, -1, -1, 1, -1, 1, -1, 1, -1, 0, -1, -1, 1, 1, -1, 1, 1, -1, 1, 0, -1, 1, 1, 1, -1, -1, -1, 1, 1, 0, 1, 0, 1, 1, 1, -1, -1, 0, -1, 1, 1, -1, 1, 1, 0, -1, 0, -1, -1, 0]\n"
          ]
        }
      ]
    },
    {
      "cell_type": "code",
      "source": [
        "# Split the data.\n",
        "# X contains converted states and y contains rewards.\n",
        "X_train, X_test, y_train, y_test = train_test_split(states_encoded, rewards, test_size=0.2)"
      ],
      "metadata": {
        "id": "ou9cxA1pYvUr"
      },
      "execution_count": 11,
      "outputs": []
    },
    {
      "cell_type": "markdown",
      "source": [
        "Create Deep Learning Model with Tensorflow and Keras"
      ],
      "metadata": {
        "id": "JuGVz8pOXvOw"
      }
    },
    {
      "cell_type": "code",
      "source": [
        "# Create a function for the deep learning model adding layers and nodes.\n",
        "# This model is built within a function so we can call it back whenever needed.\n",
        "actions = 5\n",
        "def build_model (states, actions):\n",
        "  model = Sequential()\n",
        "  model.add(Dense(24, activation='relu', input_shape=(5,)))\n",
        "  model.add(Dense(24, activation='relu'))\n",
        "  model.add(Dense(actions, activation='linear'))\n",
        "  return model"
      ],
      "metadata": {
        "id": "AD6-_qxGXx70"
      },
      "execution_count": 12,
      "outputs": []
    },
    {
      "cell_type": "code",
      "source": [
        "# Build the model using our new function.\n",
        "model = build_model(states,actions)"
      ],
      "metadata": {
        "id": "Jl6k5hcwX3G4"
      },
      "execution_count": 13,
      "outputs": []
    },
    {
      "cell_type": "code",
      "source": [
        "# Summary of model.\n",
        "model.summary()"
      ],
      "metadata": {
        "id": "FoGoIdEIX49i",
        "colab": {
          "base_uri": "https://localhost:8080/"
        },
        "outputId": "add76975-bc26-4856-d63b-1247e8ab656c"
      },
      "execution_count": 14,
      "outputs": [
        {
          "output_type": "stream",
          "name": "stdout",
          "text": [
            "Model: \"sequential\"\n",
            "_________________________________________________________________\n",
            " Layer (type)                Output Shape              Param #   \n",
            "=================================================================\n",
            " dense (Dense)               (None, 24)                144       \n",
            "                                                                 \n",
            " dense_1 (Dense)             (None, 24)                600       \n",
            "                                                                 \n",
            " dense_2 (Dense)             (None, 5)                 125       \n",
            "                                                                 \n",
            "=================================================================\n",
            "Total params: 869 (3.39 KB)\n",
            "Trainable params: 869 (3.39 KB)\n",
            "Non-trainable params: 0 (0.00 Byte)\n",
            "_________________________________________________________________\n"
          ]
        }
      ]
    },
    {
      "cell_type": "code",
      "source": [
        "# Convert states to one-hot encoded vectors.\n",
        "def state_to_one_hot(state):\n",
        "    one_hot = [0] * 5  # 5 states: rock, paper, scissors, lizard, spock\n",
        "    one_hot[state] = 1\n",
        "    return one_hot\n",
        "\n",
        "X_train_one_hot = [state_to_one_hot(state) for state in X_train]\n",
        "X_test_one_hot = [state_to_one_hot(state) for state in X_test]\n",
        "\n",
        "# Convert to NumPy arrays\n",
        "X_train_array = np.array(X_train_one_hot)\n",
        "X_test_array = np.array(X_test_one_hot)\n",
        "\n",
        "# Now you can inspect the shapes\n",
        "print(\"X_train shape:\", X_train_array.shape)\n",
        "print(\"X_test shape:\", X_test_array.shape)\n"
      ],
      "metadata": {
        "colab": {
          "base_uri": "https://localhost:8080/"
        },
        "id": "MuEtQhp9irFL",
        "outputId": "61afca64-e768-4f88-e6ed-93f2e15b624e"
      },
      "execution_count": 15,
      "outputs": [
        {
          "output_type": "stream",
          "name": "stdout",
          "text": [
            "X_train shape: (2000, 5)\n",
            "X_test shape: (500, 5)\n"
          ]
        }
      ]
    },
    {
      "cell_type": "code",
      "source": [
        "# One-hot encode the target data.\n",
        "y_train_encoded = to_categorical(y_train, num_classes=5)\n",
        "y_test_encoded = to_categorical(y_test, num_classes=5)"
      ],
      "metadata": {
        "id": "U7EzegKHmrhf"
      },
      "execution_count": 16,
      "outputs": []
    },
    {
      "cell_type": "code",
      "source": [
        "# Compile the model and train.\n",
        "model.compile(optimizer=Adam(learning_rate=0.001), loss='mse', metrics=['accuracy'])\n",
        "\n",
        "fit_model = model.fit(X_train_array, y_train_encoded, epochs=200)"
      ],
      "metadata": {
        "colab": {
          "base_uri": "https://localhost:8080/"
        },
        "id": "A9J0J2gSXpH-",
        "outputId": "caa2695d-ce5b-4117-9e8d-b736da68c531"
      },
      "execution_count": 22,
      "outputs": [
        {
          "output_type": "stream",
          "name": "stdout",
          "text": [
            "Epoch 1/200\n",
            "63/63 [==============================] - 1s 2ms/step - loss: 0.1286 - accuracy: 0.4050\n",
            "Epoch 2/200\n",
            "63/63 [==============================] - 0s 2ms/step - loss: 0.1286 - accuracy: 0.3995\n",
            "Epoch 3/200\n",
            "63/63 [==============================] - 0s 2ms/step - loss: 0.1286 - accuracy: 0.3995\n",
            "Epoch 4/200\n",
            "63/63 [==============================] - 0s 2ms/step - loss: 0.1286 - accuracy: 0.4090\n",
            "Epoch 5/200\n",
            "63/63 [==============================] - 0s 2ms/step - loss: 0.1286 - accuracy: 0.4085\n",
            "Epoch 6/200\n",
            "63/63 [==============================] - 0s 2ms/step - loss: 0.1286 - accuracy: 0.4035\n",
            "Epoch 7/200\n",
            "63/63 [==============================] - 0s 2ms/step - loss: 0.1286 - accuracy: 0.3980\n",
            "Epoch 8/200\n",
            "63/63 [==============================] - 0s 2ms/step - loss: 0.1286 - accuracy: 0.4055\n",
            "Epoch 9/200\n",
            "63/63 [==============================] - 0s 2ms/step - loss: 0.1286 - accuracy: 0.4015\n",
            "Epoch 10/200\n",
            "63/63 [==============================] - 0s 2ms/step - loss: 0.1286 - accuracy: 0.4090\n",
            "Epoch 11/200\n",
            "63/63 [==============================] - 0s 2ms/step - loss: 0.1286 - accuracy: 0.4055\n",
            "Epoch 12/200\n",
            "63/63 [==============================] - 0s 2ms/step - loss: 0.1286 - accuracy: 0.4015\n",
            "Epoch 13/200\n",
            "63/63 [==============================] - 0s 2ms/step - loss: 0.1286 - accuracy: 0.4060\n",
            "Epoch 14/200\n",
            "63/63 [==============================] - 0s 2ms/step - loss: 0.1286 - accuracy: 0.3905\n",
            "Epoch 15/200\n",
            "63/63 [==============================] - 0s 2ms/step - loss: 0.1286 - accuracy: 0.4090\n",
            "Epoch 16/200\n",
            "63/63 [==============================] - 0s 2ms/step - loss: 0.1286 - accuracy: 0.4020\n",
            "Epoch 17/200\n",
            "63/63 [==============================] - 0s 2ms/step - loss: 0.1286 - accuracy: 0.4070\n",
            "Epoch 18/200\n",
            "63/63 [==============================] - 0s 2ms/step - loss: 0.1286 - accuracy: 0.3985\n",
            "Epoch 19/200\n",
            "63/63 [==============================] - 0s 2ms/step - loss: 0.1286 - accuracy: 0.4085\n",
            "Epoch 20/200\n",
            "63/63 [==============================] - 0s 2ms/step - loss: 0.1286 - accuracy: 0.4090\n",
            "Epoch 21/200\n",
            "63/63 [==============================] - 0s 2ms/step - loss: 0.1286 - accuracy: 0.4090\n",
            "Epoch 22/200\n",
            "63/63 [==============================] - 0s 2ms/step - loss: 0.1286 - accuracy: 0.3970\n",
            "Epoch 23/200\n",
            "63/63 [==============================] - 0s 2ms/step - loss: 0.1286 - accuracy: 0.4050\n",
            "Epoch 24/200\n",
            "63/63 [==============================] - 0s 2ms/step - loss: 0.1286 - accuracy: 0.4090\n",
            "Epoch 25/200\n",
            "63/63 [==============================] - 0s 2ms/step - loss: 0.1286 - accuracy: 0.4000\n",
            "Epoch 26/200\n",
            "63/63 [==============================] - 0s 2ms/step - loss: 0.1286 - accuracy: 0.4040\n",
            "Epoch 27/200\n",
            "63/63 [==============================] - 0s 2ms/step - loss: 0.1286 - accuracy: 0.4070\n",
            "Epoch 28/200\n",
            "63/63 [==============================] - 0s 2ms/step - loss: 0.1286 - accuracy: 0.4100\n",
            "Epoch 29/200\n",
            "63/63 [==============================] - 0s 2ms/step - loss: 0.1286 - accuracy: 0.4090\n",
            "Epoch 30/200\n",
            "63/63 [==============================] - 0s 2ms/step - loss: 0.1286 - accuracy: 0.4090\n",
            "Epoch 31/200\n",
            "63/63 [==============================] - 0s 2ms/step - loss: 0.1286 - accuracy: 0.4070\n",
            "Epoch 32/200\n",
            "63/63 [==============================] - 0s 2ms/step - loss: 0.1286 - accuracy: 0.4010\n",
            "Epoch 33/200\n",
            "63/63 [==============================] - 0s 2ms/step - loss: 0.1286 - accuracy: 0.4090\n",
            "Epoch 34/200\n",
            "63/63 [==============================] - 0s 2ms/step - loss: 0.1287 - accuracy: 0.3950\n",
            "Epoch 35/200\n",
            "63/63 [==============================] - 0s 2ms/step - loss: 0.1286 - accuracy: 0.4090\n",
            "Epoch 36/200\n",
            "63/63 [==============================] - 0s 2ms/step - loss: 0.1286 - accuracy: 0.4065\n",
            "Epoch 37/200\n",
            "63/63 [==============================] - 0s 2ms/step - loss: 0.1286 - accuracy: 0.4090\n",
            "Epoch 38/200\n",
            "63/63 [==============================] - 0s 2ms/step - loss: 0.1286 - accuracy: 0.4065\n",
            "Epoch 39/200\n",
            "63/63 [==============================] - 0s 2ms/step - loss: 0.1286 - accuracy: 0.4040\n",
            "Epoch 40/200\n",
            "63/63 [==============================] - 0s 2ms/step - loss: 0.1286 - accuracy: 0.4090\n",
            "Epoch 41/200\n",
            "63/63 [==============================] - 0s 2ms/step - loss: 0.1286 - accuracy: 0.3990\n",
            "Epoch 42/200\n",
            "63/63 [==============================] - 0s 2ms/step - loss: 0.1286 - accuracy: 0.4090\n",
            "Epoch 43/200\n",
            "63/63 [==============================] - 0s 2ms/step - loss: 0.1286 - accuracy: 0.4090\n",
            "Epoch 44/200\n",
            "63/63 [==============================] - 0s 2ms/step - loss: 0.1286 - accuracy: 0.4090\n",
            "Epoch 45/200\n",
            "63/63 [==============================] - 0s 2ms/step - loss: 0.1286 - accuracy: 0.4020\n",
            "Epoch 46/200\n",
            "63/63 [==============================] - 0s 2ms/step - loss: 0.1286 - accuracy: 0.4090\n",
            "Epoch 47/200\n",
            "63/63 [==============================] - 0s 2ms/step - loss: 0.1286 - accuracy: 0.4090\n",
            "Epoch 48/200\n",
            "63/63 [==============================] - 0s 2ms/step - loss: 0.1286 - accuracy: 0.4090\n",
            "Epoch 49/200\n",
            "63/63 [==============================] - 0s 2ms/step - loss: 0.1286 - accuracy: 0.4090\n",
            "Epoch 50/200\n",
            "63/63 [==============================] - 0s 2ms/step - loss: 0.1286 - accuracy: 0.4020\n",
            "Epoch 51/200\n",
            "63/63 [==============================] - 0s 2ms/step - loss: 0.1286 - accuracy: 0.4090\n",
            "Epoch 52/200\n",
            "63/63 [==============================] - 0s 2ms/step - loss: 0.1286 - accuracy: 0.4040\n",
            "Epoch 53/200\n",
            "63/63 [==============================] - 0s 2ms/step - loss: 0.1286 - accuracy: 0.4090\n",
            "Epoch 54/200\n",
            "63/63 [==============================] - 0s 2ms/step - loss: 0.1286 - accuracy: 0.4090\n",
            "Epoch 55/200\n",
            "63/63 [==============================] - 0s 2ms/step - loss: 0.1286 - accuracy: 0.4100\n",
            "Epoch 56/200\n",
            "63/63 [==============================] - 0s 2ms/step - loss: 0.1286 - accuracy: 0.4050\n",
            "Epoch 57/200\n",
            "63/63 [==============================] - 0s 2ms/step - loss: 0.1286 - accuracy: 0.4060\n",
            "Epoch 58/200\n",
            "63/63 [==============================] - 0s 2ms/step - loss: 0.1287 - accuracy: 0.4090\n",
            "Epoch 59/200\n",
            "63/63 [==============================] - 0s 2ms/step - loss: 0.1286 - accuracy: 0.4090\n",
            "Epoch 60/200\n",
            "63/63 [==============================] - 0s 2ms/step - loss: 0.1286 - accuracy: 0.4065\n",
            "Epoch 61/200\n",
            "63/63 [==============================] - 0s 2ms/step - loss: 0.1286 - accuracy: 0.4070\n",
            "Epoch 62/200\n",
            "63/63 [==============================] - 0s 2ms/step - loss: 0.1286 - accuracy: 0.4110\n",
            "Epoch 63/200\n",
            "63/63 [==============================] - 0s 2ms/step - loss: 0.1286 - accuracy: 0.4075\n",
            "Epoch 64/200\n",
            "63/63 [==============================] - 0s 2ms/step - loss: 0.1286 - accuracy: 0.4030\n",
            "Epoch 65/200\n",
            "63/63 [==============================] - 0s 2ms/step - loss: 0.1286 - accuracy: 0.4025\n",
            "Epoch 66/200\n",
            "63/63 [==============================] - 0s 2ms/step - loss: 0.1286 - accuracy: 0.3960\n",
            "Epoch 67/200\n",
            "63/63 [==============================] - 0s 2ms/step - loss: 0.1286 - accuracy: 0.4090\n",
            "Epoch 68/200\n",
            "63/63 [==============================] - 0s 2ms/step - loss: 0.1286 - accuracy: 0.4055\n",
            "Epoch 69/200\n",
            "63/63 [==============================] - 0s 2ms/step - loss: 0.1286 - accuracy: 0.4025\n",
            "Epoch 70/200\n",
            "63/63 [==============================] - 0s 2ms/step - loss: 0.1286 - accuracy: 0.4090\n",
            "Epoch 71/200\n",
            "63/63 [==============================] - 0s 2ms/step - loss: 0.1286 - accuracy: 0.4090\n",
            "Epoch 72/200\n",
            "63/63 [==============================] - 0s 2ms/step - loss: 0.1286 - accuracy: 0.4055\n",
            "Epoch 73/200\n",
            "63/63 [==============================] - 0s 2ms/step - loss: 0.1286 - accuracy: 0.4055\n",
            "Epoch 74/200\n",
            "63/63 [==============================] - 0s 2ms/step - loss: 0.1286 - accuracy: 0.3995\n",
            "Epoch 75/200\n",
            "63/63 [==============================] - 0s 2ms/step - loss: 0.1286 - accuracy: 0.4090\n",
            "Epoch 76/200\n",
            "63/63 [==============================] - 0s 2ms/step - loss: 0.1286 - accuracy: 0.4070\n",
            "Epoch 77/200\n",
            "63/63 [==============================] - 0s 3ms/step - loss: 0.1286 - accuracy: 0.3995\n",
            "Epoch 78/200\n",
            "63/63 [==============================] - 0s 2ms/step - loss: 0.1286 - accuracy: 0.4015\n",
            "Epoch 79/200\n",
            "63/63 [==============================] - 0s 2ms/step - loss: 0.1286 - accuracy: 0.4090\n",
            "Epoch 80/200\n",
            "63/63 [==============================] - 0s 2ms/step - loss: 0.1286 - accuracy: 0.4090\n",
            "Epoch 81/200\n",
            "63/63 [==============================] - 0s 3ms/step - loss: 0.1286 - accuracy: 0.4085\n",
            "Epoch 82/200\n",
            "63/63 [==============================] - 0s 2ms/step - loss: 0.1286 - accuracy: 0.4090\n",
            "Epoch 83/200\n",
            "63/63 [==============================] - 0s 2ms/step - loss: 0.1286 - accuracy: 0.4090\n",
            "Epoch 84/200\n",
            "63/63 [==============================] - 0s 2ms/step - loss: 0.1286 - accuracy: 0.4100\n",
            "Epoch 85/200\n",
            "63/63 [==============================] - 0s 2ms/step - loss: 0.1286 - accuracy: 0.4085\n",
            "Epoch 86/200\n",
            "63/63 [==============================] - 0s 3ms/step - loss: 0.1286 - accuracy: 0.4035\n",
            "Epoch 87/200\n",
            "63/63 [==============================] - 0s 2ms/step - loss: 0.1286 - accuracy: 0.4070\n",
            "Epoch 88/200\n",
            "63/63 [==============================] - 0s 3ms/step - loss: 0.1286 - accuracy: 0.4090\n",
            "Epoch 89/200\n",
            "63/63 [==============================] - 0s 2ms/step - loss: 0.1286 - accuracy: 0.4040\n",
            "Epoch 90/200\n",
            "63/63 [==============================] - 0s 3ms/step - loss: 0.1286 - accuracy: 0.4080\n",
            "Epoch 91/200\n",
            "63/63 [==============================] - 0s 2ms/step - loss: 0.1286 - accuracy: 0.4090\n",
            "Epoch 92/200\n",
            "63/63 [==============================] - 0s 2ms/step - loss: 0.1286 - accuracy: 0.4090\n",
            "Epoch 93/200\n",
            "63/63 [==============================] - 0s 2ms/step - loss: 0.1286 - accuracy: 0.4090\n",
            "Epoch 94/200\n",
            "63/63 [==============================] - 0s 2ms/step - loss: 0.1286 - accuracy: 0.4140\n",
            "Epoch 95/200\n",
            "63/63 [==============================] - 0s 2ms/step - loss: 0.1286 - accuracy: 0.4090\n",
            "Epoch 96/200\n",
            "63/63 [==============================] - 0s 2ms/step - loss: 0.1286 - accuracy: 0.4035\n",
            "Epoch 97/200\n",
            "63/63 [==============================] - 0s 2ms/step - loss: 0.1286 - accuracy: 0.4130\n",
            "Epoch 98/200\n",
            "63/63 [==============================] - 0s 2ms/step - loss: 0.1286 - accuracy: 0.4100\n",
            "Epoch 99/200\n",
            "63/63 [==============================] - 0s 2ms/step - loss: 0.1286 - accuracy: 0.4085\n",
            "Epoch 100/200\n",
            "63/63 [==============================] - 0s 2ms/step - loss: 0.1286 - accuracy: 0.4010\n",
            "Epoch 101/200\n",
            "63/63 [==============================] - 0s 2ms/step - loss: 0.1286 - accuracy: 0.4065\n",
            "Epoch 102/200\n",
            "63/63 [==============================] - 0s 2ms/step - loss: 0.1286 - accuracy: 0.4065\n",
            "Epoch 103/200\n",
            "63/63 [==============================] - 0s 2ms/step - loss: 0.1286 - accuracy: 0.4090\n",
            "Epoch 104/200\n",
            "63/63 [==============================] - 0s 2ms/step - loss: 0.1286 - accuracy: 0.4090\n",
            "Epoch 105/200\n",
            "63/63 [==============================] - 0s 2ms/step - loss: 0.1286 - accuracy: 0.3975\n",
            "Epoch 106/200\n",
            "63/63 [==============================] - 0s 2ms/step - loss: 0.1286 - accuracy: 0.4010\n",
            "Epoch 107/200\n",
            "63/63 [==============================] - 0s 2ms/step - loss: 0.1286 - accuracy: 0.4050\n",
            "Epoch 108/200\n",
            "63/63 [==============================] - 0s 2ms/step - loss: 0.1286 - accuracy: 0.4090\n",
            "Epoch 109/200\n",
            "63/63 [==============================] - 0s 2ms/step - loss: 0.1286 - accuracy: 0.3960\n",
            "Epoch 110/200\n",
            "63/63 [==============================] - 0s 2ms/step - loss: 0.1286 - accuracy: 0.4090\n",
            "Epoch 111/200\n",
            "63/63 [==============================] - 0s 2ms/step - loss: 0.1286 - accuracy: 0.4070\n",
            "Epoch 112/200\n",
            "63/63 [==============================] - 0s 2ms/step - loss: 0.1286 - accuracy: 0.4090\n",
            "Epoch 113/200\n",
            "63/63 [==============================] - 0s 2ms/step - loss: 0.1286 - accuracy: 0.4060\n",
            "Epoch 114/200\n",
            "63/63 [==============================] - 0s 2ms/step - loss: 0.1286 - accuracy: 0.4055\n",
            "Epoch 115/200\n",
            "63/63 [==============================] - 0s 2ms/step - loss: 0.1286 - accuracy: 0.4050\n",
            "Epoch 116/200\n",
            "63/63 [==============================] - 0s 2ms/step - loss: 0.1286 - accuracy: 0.4055\n",
            "Epoch 117/200\n",
            "63/63 [==============================] - 0s 2ms/step - loss: 0.1286 - accuracy: 0.4090\n",
            "Epoch 118/200\n",
            "63/63 [==============================] - 0s 2ms/step - loss: 0.1286 - accuracy: 0.4040\n",
            "Epoch 119/200\n",
            "63/63 [==============================] - 0s 2ms/step - loss: 0.1286 - accuracy: 0.4090\n",
            "Epoch 120/200\n",
            "63/63 [==============================] - 0s 2ms/step - loss: 0.1286 - accuracy: 0.4090\n",
            "Epoch 121/200\n",
            "63/63 [==============================] - 0s 2ms/step - loss: 0.1286 - accuracy: 0.4055\n",
            "Epoch 122/200\n",
            "63/63 [==============================] - 0s 2ms/step - loss: 0.1286 - accuracy: 0.4090\n",
            "Epoch 123/200\n",
            "63/63 [==============================] - 0s 2ms/step - loss: 0.1286 - accuracy: 0.4075\n",
            "Epoch 124/200\n",
            "63/63 [==============================] - 0s 2ms/step - loss: 0.1286 - accuracy: 0.4075\n",
            "Epoch 125/200\n",
            "63/63 [==============================] - 0s 2ms/step - loss: 0.1286 - accuracy: 0.4090\n",
            "Epoch 126/200\n",
            "63/63 [==============================] - 0s 2ms/step - loss: 0.1286 - accuracy: 0.4090\n",
            "Epoch 127/200\n",
            "63/63 [==============================] - 0s 2ms/step - loss: 0.1286 - accuracy: 0.4090\n",
            "Epoch 128/200\n",
            "63/63 [==============================] - 0s 2ms/step - loss: 0.1286 - accuracy: 0.4025\n",
            "Epoch 129/200\n",
            "63/63 [==============================] - 0s 2ms/step - loss: 0.1286 - accuracy: 0.3990\n",
            "Epoch 130/200\n",
            "63/63 [==============================] - 0s 2ms/step - loss: 0.1286 - accuracy: 0.4055\n",
            "Epoch 131/200\n",
            "63/63 [==============================] - 0s 2ms/step - loss: 0.1286 - accuracy: 0.4040\n",
            "Epoch 132/200\n",
            "63/63 [==============================] - 0s 2ms/step - loss: 0.1286 - accuracy: 0.4110\n",
            "Epoch 133/200\n",
            "63/63 [==============================] - 0s 2ms/step - loss: 0.1286 - accuracy: 0.4090\n",
            "Epoch 134/200\n",
            "63/63 [==============================] - 0s 2ms/step - loss: 0.1286 - accuracy: 0.4060\n",
            "Epoch 135/200\n",
            "63/63 [==============================] - 0s 2ms/step - loss: 0.1286 - accuracy: 0.4085\n",
            "Epoch 136/200\n",
            "63/63 [==============================] - 0s 2ms/step - loss: 0.1286 - accuracy: 0.4070\n",
            "Epoch 137/200\n",
            "63/63 [==============================] - 0s 2ms/step - loss: 0.1286 - accuracy: 0.4145\n",
            "Epoch 138/200\n",
            "63/63 [==============================] - 0s 2ms/step - loss: 0.1286 - accuracy: 0.4085\n",
            "Epoch 139/200\n",
            "63/63 [==============================] - 0s 2ms/step - loss: 0.1286 - accuracy: 0.4090\n",
            "Epoch 140/200\n",
            "63/63 [==============================] - 0s 2ms/step - loss: 0.1286 - accuracy: 0.4020\n",
            "Epoch 141/200\n",
            "63/63 [==============================] - 0s 2ms/step - loss: 0.1286 - accuracy: 0.4070\n",
            "Epoch 142/200\n",
            "63/63 [==============================] - 0s 2ms/step - loss: 0.1286 - accuracy: 0.4060\n",
            "Epoch 143/200\n",
            "63/63 [==============================] - 0s 2ms/step - loss: 0.1286 - accuracy: 0.4090\n",
            "Epoch 144/200\n",
            "63/63 [==============================] - 0s 2ms/step - loss: 0.1286 - accuracy: 0.4000\n",
            "Epoch 145/200\n",
            "63/63 [==============================] - 0s 2ms/step - loss: 0.1286 - accuracy: 0.4090\n",
            "Epoch 146/200\n",
            "63/63 [==============================] - 0s 2ms/step - loss: 0.1286 - accuracy: 0.4110\n",
            "Epoch 147/200\n",
            "63/63 [==============================] - 0s 2ms/step - loss: 0.1286 - accuracy: 0.4060\n",
            "Epoch 148/200\n",
            "63/63 [==============================] - 0s 2ms/step - loss: 0.1286 - accuracy: 0.4045\n",
            "Epoch 149/200\n",
            "63/63 [==============================] - 0s 2ms/step - loss: 0.1286 - accuracy: 0.3980\n",
            "Epoch 150/200\n",
            "63/63 [==============================] - 0s 2ms/step - loss: 0.1286 - accuracy: 0.4090\n",
            "Epoch 151/200\n",
            "63/63 [==============================] - 0s 2ms/step - loss: 0.1286 - accuracy: 0.4090\n",
            "Epoch 152/200\n",
            "63/63 [==============================] - 0s 2ms/step - loss: 0.1286 - accuracy: 0.4045\n",
            "Epoch 153/200\n",
            "63/63 [==============================] - 0s 2ms/step - loss: 0.1286 - accuracy: 0.4115\n",
            "Epoch 154/200\n",
            "63/63 [==============================] - 0s 2ms/step - loss: 0.1286 - accuracy: 0.4055\n",
            "Epoch 155/200\n",
            "63/63 [==============================] - 0s 2ms/step - loss: 0.1286 - accuracy: 0.4045\n",
            "Epoch 156/200\n",
            "63/63 [==============================] - 0s 2ms/step - loss: 0.1286 - accuracy: 0.4065\n",
            "Epoch 157/200\n",
            "63/63 [==============================] - 0s 2ms/step - loss: 0.1286 - accuracy: 0.3990\n",
            "Epoch 158/200\n",
            "63/63 [==============================] - 0s 2ms/step - loss: 0.1286 - accuracy: 0.4035\n",
            "Epoch 159/200\n",
            "63/63 [==============================] - 0s 2ms/step - loss: 0.1286 - accuracy: 0.4070\n",
            "Epoch 160/200\n",
            "63/63 [==============================] - 0s 2ms/step - loss: 0.1286 - accuracy: 0.4085\n",
            "Epoch 161/200\n",
            "63/63 [==============================] - 0s 2ms/step - loss: 0.1286 - accuracy: 0.4050\n",
            "Epoch 162/200\n",
            "63/63 [==============================] - 0s 2ms/step - loss: 0.1286 - accuracy: 0.3990\n",
            "Epoch 163/200\n",
            "63/63 [==============================] - 0s 2ms/step - loss: 0.1286 - accuracy: 0.4015\n",
            "Epoch 164/200\n",
            "63/63 [==============================] - 0s 2ms/step - loss: 0.1286 - accuracy: 0.4060\n",
            "Epoch 165/200\n",
            "63/63 [==============================] - 0s 2ms/step - loss: 0.1286 - accuracy: 0.4020\n",
            "Epoch 166/200\n",
            "63/63 [==============================] - 0s 2ms/step - loss: 0.1286 - accuracy: 0.4030\n",
            "Epoch 167/200\n",
            "63/63 [==============================] - 0s 2ms/step - loss: 0.1286 - accuracy: 0.4035\n",
            "Epoch 168/200\n",
            "63/63 [==============================] - 0s 2ms/step - loss: 0.1286 - accuracy: 0.4090\n",
            "Epoch 169/200\n",
            "63/63 [==============================] - 0s 2ms/step - loss: 0.1286 - accuracy: 0.4045\n",
            "Epoch 170/200\n",
            "63/63 [==============================] - 0s 2ms/step - loss: 0.1286 - accuracy: 0.4090\n",
            "Epoch 171/200\n",
            "63/63 [==============================] - 0s 2ms/step - loss: 0.1286 - accuracy: 0.4080\n",
            "Epoch 172/200\n",
            "63/63 [==============================] - 0s 2ms/step - loss: 0.1286 - accuracy: 0.4050\n",
            "Epoch 173/200\n",
            "63/63 [==============================] - 0s 2ms/step - loss: 0.1286 - accuracy: 0.4050\n",
            "Epoch 174/200\n",
            "63/63 [==============================] - 0s 2ms/step - loss: 0.1286 - accuracy: 0.4090\n",
            "Epoch 175/200\n",
            "63/63 [==============================] - 0s 2ms/step - loss: 0.1286 - accuracy: 0.4015\n",
            "Epoch 176/200\n",
            "63/63 [==============================] - 0s 2ms/step - loss: 0.1286 - accuracy: 0.4115\n",
            "Epoch 177/200\n",
            "63/63 [==============================] - 0s 2ms/step - loss: 0.1286 - accuracy: 0.4065\n",
            "Epoch 178/200\n",
            "63/63 [==============================] - 0s 2ms/step - loss: 0.1286 - accuracy: 0.4120\n",
            "Epoch 179/200\n",
            "63/63 [==============================] - 0s 3ms/step - loss: 0.1286 - accuracy: 0.4075\n",
            "Epoch 180/200\n",
            "63/63 [==============================] - 0s 2ms/step - loss: 0.1286 - accuracy: 0.4080\n",
            "Epoch 181/200\n",
            "63/63 [==============================] - 0s 3ms/step - loss: 0.1286 - accuracy: 0.3920\n",
            "Epoch 182/200\n",
            "63/63 [==============================] - 0s 2ms/step - loss: 0.1286 - accuracy: 0.4065\n",
            "Epoch 183/200\n",
            "63/63 [==============================] - 0s 2ms/step - loss: 0.1286 - accuracy: 0.4040\n",
            "Epoch 184/200\n",
            "63/63 [==============================] - 0s 3ms/step - loss: 0.1286 - accuracy: 0.4030\n",
            "Epoch 185/200\n",
            "63/63 [==============================] - 0s 3ms/step - loss: 0.1286 - accuracy: 0.4140\n",
            "Epoch 186/200\n",
            "63/63 [==============================] - 0s 3ms/step - loss: 0.1286 - accuracy: 0.4085\n",
            "Epoch 187/200\n",
            "63/63 [==============================] - 0s 2ms/step - loss: 0.1286 - accuracy: 0.4150\n",
            "Epoch 188/200\n",
            "63/63 [==============================] - 0s 2ms/step - loss: 0.1286 - accuracy: 0.4050\n",
            "Epoch 189/200\n",
            "63/63 [==============================] - 0s 3ms/step - loss: 0.1286 - accuracy: 0.4090\n",
            "Epoch 190/200\n",
            "63/63 [==============================] - 0s 3ms/step - loss: 0.1286 - accuracy: 0.4090\n",
            "Epoch 191/200\n",
            "63/63 [==============================] - 0s 2ms/step - loss: 0.1286 - accuracy: 0.4025\n",
            "Epoch 192/200\n",
            "63/63 [==============================] - 0s 2ms/step - loss: 0.1286 - accuracy: 0.4050\n",
            "Epoch 193/200\n",
            "63/63 [==============================] - 0s 2ms/step - loss: 0.1286 - accuracy: 0.4020\n",
            "Epoch 194/200\n",
            "63/63 [==============================] - 0s 2ms/step - loss: 0.1286 - accuracy: 0.4090\n",
            "Epoch 195/200\n",
            "63/63 [==============================] - 0s 2ms/step - loss: 0.1286 - accuracy: 0.4060\n",
            "Epoch 196/200\n",
            "63/63 [==============================] - 0s 2ms/step - loss: 0.1286 - accuracy: 0.4090\n",
            "Epoch 197/200\n",
            "63/63 [==============================] - 0s 2ms/step - loss: 0.1286 - accuracy: 0.4090\n",
            "Epoch 198/200\n",
            "63/63 [==============================] - 0s 2ms/step - loss: 0.1286 - accuracy: 0.4090\n",
            "Epoch 199/200\n",
            "63/63 [==============================] - 0s 2ms/step - loss: 0.1286 - accuracy: 0.4090\n",
            "Epoch 200/200\n",
            "63/63 [==============================] - 0s 2ms/step - loss: 0.1286 - accuracy: 0.4090\n"
          ]
        }
      ]
    },
    {
      "cell_type": "code",
      "source": [
        "# Evaluate the performance of model using the loss and predictive accuracy of the model on the test dataset.\n",
        "model_loss, model_accuracy = model.evaluate(X_test_array,y_test_encoded,verbose=2)\n",
        "print(f\"Loss: {model_loss}, Accuracy: {model_accuracy}\")"
      ],
      "metadata": {
        "colab": {
          "base_uri": "https://localhost:8080/"
        },
        "id": "AOlNKpKNXq-J",
        "outputId": "6cb8a09d-038f-4429-f35c-54d6bb894fed"
      },
      "execution_count": 23,
      "outputs": [
        {
          "output_type": "stream",
          "name": "stdout",
          "text": [
            "16/16 - 0s - loss: 0.1269 - accuracy: 0.4000 - 129ms/epoch - 8ms/step\n",
            "Loss: 0.12689444422721863, Accuracy: 0.4000000059604645\n"
          ]
        }
      ]
    }
  ]
}