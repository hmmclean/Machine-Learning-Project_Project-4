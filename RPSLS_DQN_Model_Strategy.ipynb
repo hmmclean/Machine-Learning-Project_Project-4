{
  "nbformat": 4,
  "nbformat_minor": 0,
  "metadata": {
    "colab": {
      "provenance": []
    },
    "kernelspec": {
      "name": "python3",
      "display_name": "Python 3"
    },
    "language_info": {
      "name": "python"
    }
  },
  "cells": [
    {
      "cell_type": "code",
      "source": [
        "# Install Dependencies\n",
        "# This specific package of tf is needed to agree with keras-rl2.\n",
        "!pip install tensorflow==2.8.0"
      ],
      "metadata": {
        "colab": {
          "base_uri": "https://localhost:8080/"
        },
        "id": "Wg2dxjWQPlj7",
        "outputId": "3cc5709a-e745-422a-8de3-8b6edd27e983"
      },
      "execution_count": 1,
      "outputs": [
        {
          "output_type": "stream",
          "name": "stdout",
          "text": [
            "Collecting tensorflow==2.8.0\n",
            "  Downloading tensorflow-2.8.0-cp310-cp310-manylinux2010_x86_64.whl (497.6 MB)\n",
            "\u001b[2K     \u001b[90m━━━━━━━━━━━━━━━━━━━━━━━━━━━━━━━━━━━━━━━━\u001b[0m \u001b[32m497.6/497.6 MB\u001b[0m \u001b[31m2.7 MB/s\u001b[0m eta \u001b[36m0:00:00\u001b[0m\n",
            "\u001b[?25hRequirement already satisfied: absl-py>=0.4.0 in /usr/local/lib/python3.10/dist-packages (from tensorflow==2.8.0) (1.4.0)\n",
            "Requirement already satisfied: astunparse>=1.6.0 in /usr/local/lib/python3.10/dist-packages (from tensorflow==2.8.0) (1.6.3)\n",
            "Requirement already satisfied: flatbuffers>=1.12 in /usr/local/lib/python3.10/dist-packages (from tensorflow==2.8.0) (24.3.7)\n",
            "Requirement already satisfied: gast>=0.2.1 in /usr/local/lib/python3.10/dist-packages (from tensorflow==2.8.0) (0.5.4)\n",
            "Requirement already satisfied: google-pasta>=0.1.1 in /usr/local/lib/python3.10/dist-packages (from tensorflow==2.8.0) (0.2.0)\n",
            "Requirement already satisfied: h5py>=2.9.0 in /usr/local/lib/python3.10/dist-packages (from tensorflow==2.8.0) (3.9.0)\n",
            "Collecting keras-preprocessing>=1.1.1 (from tensorflow==2.8.0)\n",
            "  Downloading Keras_Preprocessing-1.1.2-py2.py3-none-any.whl (42 kB)\n",
            "\u001b[2K     \u001b[90m━━━━━━━━━━━━━━━━━━━━━━━━━━━━━━━━━━━━━━━━\u001b[0m \u001b[32m42.6/42.6 kB\u001b[0m \u001b[31m3.5 MB/s\u001b[0m eta \u001b[36m0:00:00\u001b[0m\n",
            "\u001b[?25hRequirement already satisfied: libclang>=9.0.1 in /usr/local/lib/python3.10/dist-packages (from tensorflow==2.8.0) (18.1.1)\n",
            "Requirement already satisfied: numpy>=1.20 in /usr/local/lib/python3.10/dist-packages (from tensorflow==2.8.0) (1.25.2)\n",
            "Requirement already satisfied: opt-einsum>=2.3.2 in /usr/local/lib/python3.10/dist-packages (from tensorflow==2.8.0) (3.3.0)\n",
            "Requirement already satisfied: protobuf>=3.9.2 in /usr/local/lib/python3.10/dist-packages (from tensorflow==2.8.0) (3.20.3)\n",
            "Requirement already satisfied: setuptools in /usr/local/lib/python3.10/dist-packages (from tensorflow==2.8.0) (67.7.2)\n",
            "Requirement already satisfied: six>=1.12.0 in /usr/local/lib/python3.10/dist-packages (from tensorflow==2.8.0) (1.16.0)\n",
            "Requirement already satisfied: termcolor>=1.1.0 in /usr/local/lib/python3.10/dist-packages (from tensorflow==2.8.0) (2.4.0)\n",
            "Requirement already satisfied: typing-extensions>=3.6.6 in /usr/local/lib/python3.10/dist-packages (from tensorflow==2.8.0) (4.10.0)\n",
            "Requirement already satisfied: wrapt>=1.11.0 in /usr/local/lib/python3.10/dist-packages (from tensorflow==2.8.0) (1.14.1)\n",
            "Collecting tensorboard<2.9,>=2.8 (from tensorflow==2.8.0)\n",
            "  Downloading tensorboard-2.8.0-py3-none-any.whl (5.8 MB)\n",
            "\u001b[2K     \u001b[90m━━━━━━━━━━━━━━━━━━━━━━━━━━━━━━━━━━━━━━━━\u001b[0m \u001b[32m5.8/5.8 MB\u001b[0m \u001b[31m50.2 MB/s\u001b[0m eta \u001b[36m0:00:00\u001b[0m\n",
            "\u001b[?25hCollecting tf-estimator-nightly==2.8.0.dev2021122109 (from tensorflow==2.8.0)\n",
            "  Downloading tf_estimator_nightly-2.8.0.dev2021122109-py2.py3-none-any.whl (462 kB)\n",
            "\u001b[2K     \u001b[90m━━━━━━━━━━━━━━━━━━━━━━━━━━━━━━━━━━━━━━━━\u001b[0m \u001b[32m462.5/462.5 kB\u001b[0m \u001b[31m9.0 MB/s\u001b[0m eta \u001b[36m0:00:00\u001b[0m\n",
            "\u001b[?25hCollecting keras<2.9,>=2.8.0rc0 (from tensorflow==2.8.0)\n",
            "  Downloading keras-2.8.0-py2.py3-none-any.whl (1.4 MB)\n",
            "\u001b[2K     \u001b[90m━━━━━━━━━━━━━━━━━━━━━━━━━━━━━━━━━━━━━━━━\u001b[0m \u001b[32m1.4/1.4 MB\u001b[0m \u001b[31m44.6 MB/s\u001b[0m eta \u001b[36m0:00:00\u001b[0m\n",
            "\u001b[?25hRequirement already satisfied: tensorflow-io-gcs-filesystem>=0.23.1 in /usr/local/lib/python3.10/dist-packages (from tensorflow==2.8.0) (0.36.0)\n",
            "Requirement already satisfied: grpcio<2.0,>=1.24.3 in /usr/local/lib/python3.10/dist-packages (from tensorflow==2.8.0) (1.62.1)\n",
            "Requirement already satisfied: wheel<1.0,>=0.23.0 in /usr/local/lib/python3.10/dist-packages (from astunparse>=1.6.0->tensorflow==2.8.0) (0.43.0)\n",
            "Requirement already satisfied: google-auth<3,>=1.6.3 in /usr/local/lib/python3.10/dist-packages (from tensorboard<2.9,>=2.8->tensorflow==2.8.0) (2.27.0)\n",
            "Collecting google-auth-oauthlib<0.5,>=0.4.1 (from tensorboard<2.9,>=2.8->tensorflow==2.8.0)\n",
            "  Downloading google_auth_oauthlib-0.4.6-py2.py3-none-any.whl (18 kB)\n",
            "Requirement already satisfied: markdown>=2.6.8 in /usr/local/lib/python3.10/dist-packages (from tensorboard<2.9,>=2.8->tensorflow==2.8.0) (3.6)\n",
            "Requirement already satisfied: requests<3,>=2.21.0 in /usr/local/lib/python3.10/dist-packages (from tensorboard<2.9,>=2.8->tensorflow==2.8.0) (2.31.0)\n",
            "Collecting tensorboard-data-server<0.7.0,>=0.6.0 (from tensorboard<2.9,>=2.8->tensorflow==2.8.0)\n",
            "  Downloading tensorboard_data_server-0.6.1-py3-none-manylinux2010_x86_64.whl (4.9 MB)\n",
            "\u001b[2K     \u001b[90m━━━━━━━━━━━━━━━━━━━━━━━━━━━━━━━━━━━━━━━━\u001b[0m \u001b[32m4.9/4.9 MB\u001b[0m \u001b[31m49.6 MB/s\u001b[0m eta \u001b[36m0:00:00\u001b[0m\n",
            "\u001b[?25hCollecting tensorboard-plugin-wit>=1.6.0 (from tensorboard<2.9,>=2.8->tensorflow==2.8.0)\n",
            "  Downloading tensorboard_plugin_wit-1.8.1-py3-none-any.whl (781 kB)\n",
            "\u001b[2K     \u001b[90m━━━━━━━━━━━━━━━━━━━━━━━━━━━━━━━━━━━━━━━━\u001b[0m \u001b[32m781.3/781.3 kB\u001b[0m \u001b[31m44.6 MB/s\u001b[0m eta \u001b[36m0:00:00\u001b[0m\n",
            "\u001b[?25hRequirement already satisfied: werkzeug>=0.11.15 in /usr/local/lib/python3.10/dist-packages (from tensorboard<2.9,>=2.8->tensorflow==2.8.0) (3.0.1)\n",
            "Requirement already satisfied: cachetools<6.0,>=2.0.0 in /usr/local/lib/python3.10/dist-packages (from google-auth<3,>=1.6.3->tensorboard<2.9,>=2.8->tensorflow==2.8.0) (5.3.3)\n",
            "Requirement already satisfied: pyasn1-modules>=0.2.1 in /usr/local/lib/python3.10/dist-packages (from google-auth<3,>=1.6.3->tensorboard<2.9,>=2.8->tensorflow==2.8.0) (0.3.0)\n",
            "Requirement already satisfied: rsa<5,>=3.1.4 in /usr/local/lib/python3.10/dist-packages (from google-auth<3,>=1.6.3->tensorboard<2.9,>=2.8->tensorflow==2.8.0) (4.9)\n",
            "Requirement already satisfied: requests-oauthlib>=0.7.0 in /usr/local/lib/python3.10/dist-packages (from google-auth-oauthlib<0.5,>=0.4.1->tensorboard<2.9,>=2.8->tensorflow==2.8.0) (1.4.0)\n",
            "Requirement already satisfied: charset-normalizer<4,>=2 in /usr/local/lib/python3.10/dist-packages (from requests<3,>=2.21.0->tensorboard<2.9,>=2.8->tensorflow==2.8.0) (3.3.2)\n",
            "Requirement already satisfied: idna<4,>=2.5 in /usr/local/lib/python3.10/dist-packages (from requests<3,>=2.21.0->tensorboard<2.9,>=2.8->tensorflow==2.8.0) (3.6)\n",
            "Requirement already satisfied: urllib3<3,>=1.21.1 in /usr/local/lib/python3.10/dist-packages (from requests<3,>=2.21.0->tensorboard<2.9,>=2.8->tensorflow==2.8.0) (2.0.7)\n",
            "Requirement already satisfied: certifi>=2017.4.17 in /usr/local/lib/python3.10/dist-packages (from requests<3,>=2.21.0->tensorboard<2.9,>=2.8->tensorflow==2.8.0) (2024.2.2)\n",
            "Requirement already satisfied: MarkupSafe>=2.1.1 in /usr/local/lib/python3.10/dist-packages (from werkzeug>=0.11.15->tensorboard<2.9,>=2.8->tensorflow==2.8.0) (2.1.5)\n",
            "Requirement already satisfied: pyasn1<0.6.0,>=0.4.6 in /usr/local/lib/python3.10/dist-packages (from pyasn1-modules>=0.2.1->google-auth<3,>=1.6.3->tensorboard<2.9,>=2.8->tensorflow==2.8.0) (0.5.1)\n",
            "Requirement already satisfied: oauthlib>=3.0.0 in /usr/local/lib/python3.10/dist-packages (from requests-oauthlib>=0.7.0->google-auth-oauthlib<0.5,>=0.4.1->tensorboard<2.9,>=2.8->tensorflow==2.8.0) (3.2.2)\n",
            "Installing collected packages: tf-estimator-nightly, tensorboard-plugin-wit, keras, tensorboard-data-server, keras-preprocessing, google-auth-oauthlib, tensorboard, tensorflow\n",
            "  Attempting uninstall: keras\n",
            "    Found existing installation: keras 2.15.0\n",
            "    Uninstalling keras-2.15.0:\n",
            "      Successfully uninstalled keras-2.15.0\n",
            "  Attempting uninstall: tensorboard-data-server\n",
            "    Found existing installation: tensorboard-data-server 0.7.2\n",
            "    Uninstalling tensorboard-data-server-0.7.2:\n",
            "      Successfully uninstalled tensorboard-data-server-0.7.2\n",
            "  Attempting uninstall: google-auth-oauthlib\n",
            "    Found existing installation: google-auth-oauthlib 1.2.0\n",
            "    Uninstalling google-auth-oauthlib-1.2.0:\n",
            "      Successfully uninstalled google-auth-oauthlib-1.2.0\n",
            "  Attempting uninstall: tensorboard\n",
            "    Found existing installation: tensorboard 2.15.2\n",
            "    Uninstalling tensorboard-2.15.2:\n",
            "      Successfully uninstalled tensorboard-2.15.2\n",
            "  Attempting uninstall: tensorflow\n",
            "    Found existing installation: tensorflow 2.15.0\n",
            "    Uninstalling tensorflow-2.15.0:\n",
            "      Successfully uninstalled tensorflow-2.15.0\n",
            "\u001b[31mERROR: pip's dependency resolver does not currently take into account all the packages that are installed. This behaviour is the source of the following dependency conflicts.\n",
            "pandas-gbq 0.19.2 requires google-auth-oauthlib>=0.7.0, but you have google-auth-oauthlib 0.4.6 which is incompatible.\n",
            "tf-keras 2.15.1 requires tensorflow<2.16,>=2.15, but you have tensorflow 2.8.0 which is incompatible.\u001b[0m\u001b[31m\n",
            "\u001b[0mSuccessfully installed google-auth-oauthlib-0.4.6 keras-2.8.0 keras-preprocessing-1.1.2 tensorboard-2.8.0 tensorboard-data-server-0.6.1 tensorboard-plugin-wit-1.8.1 tensorflow-2.8.0 tf-estimator-nightly-2.8.0.dev2021122109\n"
          ]
        }
      ]
    },
    {
      "cell_type": "code",
      "source": [
        "!pip install keras-rl2"
      ],
      "metadata": {
        "colab": {
          "base_uri": "https://localhost:8080/"
        },
        "id": "xs_vqhDnl-IF",
        "outputId": "3231eac5-d4fd-494d-b732-788c8025ba40"
      },
      "execution_count": 2,
      "outputs": [
        {
          "output_type": "stream",
          "name": "stdout",
          "text": [
            "Collecting keras-rl2\n",
            "  Downloading keras_rl2-1.0.5-py3-none-any.whl (52 kB)\n",
            "\u001b[2K     \u001b[90m━━━━━━━━━━━━━━━━━━━━━━━━━━━━━━━━━━━━━━━━\u001b[0m \u001b[32m52.1/52.1 kB\u001b[0m \u001b[31m1.1 MB/s\u001b[0m eta \u001b[36m0:00:00\u001b[0m\n",
            "\u001b[?25hRequirement already satisfied: tensorflow in /usr/local/lib/python3.10/dist-packages (from keras-rl2) (2.8.0)\n",
            "Requirement already satisfied: absl-py>=0.4.0 in /usr/local/lib/python3.10/dist-packages (from tensorflow->keras-rl2) (1.4.0)\n",
            "Requirement already satisfied: astunparse>=1.6.0 in /usr/local/lib/python3.10/dist-packages (from tensorflow->keras-rl2) (1.6.3)\n",
            "Requirement already satisfied: flatbuffers>=1.12 in /usr/local/lib/python3.10/dist-packages (from tensorflow->keras-rl2) (24.3.7)\n",
            "Requirement already satisfied: gast>=0.2.1 in /usr/local/lib/python3.10/dist-packages (from tensorflow->keras-rl2) (0.5.4)\n",
            "Requirement already satisfied: google-pasta>=0.1.1 in /usr/local/lib/python3.10/dist-packages (from tensorflow->keras-rl2) (0.2.0)\n",
            "Requirement already satisfied: h5py>=2.9.0 in /usr/local/lib/python3.10/dist-packages (from tensorflow->keras-rl2) (3.9.0)\n",
            "Requirement already satisfied: keras-preprocessing>=1.1.1 in /usr/local/lib/python3.10/dist-packages (from tensorflow->keras-rl2) (1.1.2)\n",
            "Requirement already satisfied: libclang>=9.0.1 in /usr/local/lib/python3.10/dist-packages (from tensorflow->keras-rl2) (18.1.1)\n",
            "Requirement already satisfied: numpy>=1.20 in /usr/local/lib/python3.10/dist-packages (from tensorflow->keras-rl2) (1.25.2)\n",
            "Requirement already satisfied: opt-einsum>=2.3.2 in /usr/local/lib/python3.10/dist-packages (from tensorflow->keras-rl2) (3.3.0)\n",
            "Requirement already satisfied: protobuf>=3.9.2 in /usr/local/lib/python3.10/dist-packages (from tensorflow->keras-rl2) (3.20.3)\n",
            "Requirement already satisfied: setuptools in /usr/local/lib/python3.10/dist-packages (from tensorflow->keras-rl2) (67.7.2)\n",
            "Requirement already satisfied: six>=1.12.0 in /usr/local/lib/python3.10/dist-packages (from tensorflow->keras-rl2) (1.16.0)\n",
            "Requirement already satisfied: termcolor>=1.1.0 in /usr/local/lib/python3.10/dist-packages (from tensorflow->keras-rl2) (2.4.0)\n",
            "Requirement already satisfied: typing-extensions>=3.6.6 in /usr/local/lib/python3.10/dist-packages (from tensorflow->keras-rl2) (4.10.0)\n",
            "Requirement already satisfied: wrapt>=1.11.0 in /usr/local/lib/python3.10/dist-packages (from tensorflow->keras-rl2) (1.14.1)\n",
            "Requirement already satisfied: tensorboard<2.9,>=2.8 in /usr/local/lib/python3.10/dist-packages (from tensorflow->keras-rl2) (2.8.0)\n",
            "Requirement already satisfied: tf-estimator-nightly==2.8.0.dev2021122109 in /usr/local/lib/python3.10/dist-packages (from tensorflow->keras-rl2) (2.8.0.dev2021122109)\n",
            "Requirement already satisfied: keras<2.9,>=2.8.0rc0 in /usr/local/lib/python3.10/dist-packages (from tensorflow->keras-rl2) (2.8.0)\n",
            "Requirement already satisfied: tensorflow-io-gcs-filesystem>=0.23.1 in /usr/local/lib/python3.10/dist-packages (from tensorflow->keras-rl2) (0.36.0)\n",
            "Requirement already satisfied: grpcio<2.0,>=1.24.3 in /usr/local/lib/python3.10/dist-packages (from tensorflow->keras-rl2) (1.62.1)\n",
            "Requirement already satisfied: wheel<1.0,>=0.23.0 in /usr/local/lib/python3.10/dist-packages (from astunparse>=1.6.0->tensorflow->keras-rl2) (0.43.0)\n",
            "Requirement already satisfied: google-auth<3,>=1.6.3 in /usr/local/lib/python3.10/dist-packages (from tensorboard<2.9,>=2.8->tensorflow->keras-rl2) (2.27.0)\n",
            "Requirement already satisfied: google-auth-oauthlib<0.5,>=0.4.1 in /usr/local/lib/python3.10/dist-packages (from tensorboard<2.9,>=2.8->tensorflow->keras-rl2) (0.4.6)\n",
            "Requirement already satisfied: markdown>=2.6.8 in /usr/local/lib/python3.10/dist-packages (from tensorboard<2.9,>=2.8->tensorflow->keras-rl2) (3.6)\n",
            "Requirement already satisfied: requests<3,>=2.21.0 in /usr/local/lib/python3.10/dist-packages (from tensorboard<2.9,>=2.8->tensorflow->keras-rl2) (2.31.0)\n",
            "Requirement already satisfied: tensorboard-data-server<0.7.0,>=0.6.0 in /usr/local/lib/python3.10/dist-packages (from tensorboard<2.9,>=2.8->tensorflow->keras-rl2) (0.6.1)\n",
            "Requirement already satisfied: tensorboard-plugin-wit>=1.6.0 in /usr/local/lib/python3.10/dist-packages (from tensorboard<2.9,>=2.8->tensorflow->keras-rl2) (1.8.1)\n",
            "Requirement already satisfied: werkzeug>=0.11.15 in /usr/local/lib/python3.10/dist-packages (from tensorboard<2.9,>=2.8->tensorflow->keras-rl2) (3.0.1)\n",
            "Requirement already satisfied: cachetools<6.0,>=2.0.0 in /usr/local/lib/python3.10/dist-packages (from google-auth<3,>=1.6.3->tensorboard<2.9,>=2.8->tensorflow->keras-rl2) (5.3.3)\n",
            "Requirement already satisfied: pyasn1-modules>=0.2.1 in /usr/local/lib/python3.10/dist-packages (from google-auth<3,>=1.6.3->tensorboard<2.9,>=2.8->tensorflow->keras-rl2) (0.3.0)\n",
            "Requirement already satisfied: rsa<5,>=3.1.4 in /usr/local/lib/python3.10/dist-packages (from google-auth<3,>=1.6.3->tensorboard<2.9,>=2.8->tensorflow->keras-rl2) (4.9)\n",
            "Requirement already satisfied: requests-oauthlib>=0.7.0 in /usr/local/lib/python3.10/dist-packages (from google-auth-oauthlib<0.5,>=0.4.1->tensorboard<2.9,>=2.8->tensorflow->keras-rl2) (1.4.0)\n",
            "Requirement already satisfied: charset-normalizer<4,>=2 in /usr/local/lib/python3.10/dist-packages (from requests<3,>=2.21.0->tensorboard<2.9,>=2.8->tensorflow->keras-rl2) (3.3.2)\n",
            "Requirement already satisfied: idna<4,>=2.5 in /usr/local/lib/python3.10/dist-packages (from requests<3,>=2.21.0->tensorboard<2.9,>=2.8->tensorflow->keras-rl2) (3.6)\n",
            "Requirement already satisfied: urllib3<3,>=1.21.1 in /usr/local/lib/python3.10/dist-packages (from requests<3,>=2.21.0->tensorboard<2.9,>=2.8->tensorflow->keras-rl2) (2.0.7)\n",
            "Requirement already satisfied: certifi>=2017.4.17 in /usr/local/lib/python3.10/dist-packages (from requests<3,>=2.21.0->tensorboard<2.9,>=2.8->tensorflow->keras-rl2) (2024.2.2)\n",
            "Requirement already satisfied: MarkupSafe>=2.1.1 in /usr/local/lib/python3.10/dist-packages (from werkzeug>=0.11.15->tensorboard<2.9,>=2.8->tensorflow->keras-rl2) (2.1.5)\n",
            "Requirement already satisfied: pyasn1<0.6.0,>=0.4.6 in /usr/local/lib/python3.10/dist-packages (from pyasn1-modules>=0.2.1->google-auth<3,>=1.6.3->tensorboard<2.9,>=2.8->tensorflow->keras-rl2) (0.5.1)\n",
            "Requirement already satisfied: oauthlib>=3.0.0 in /usr/local/lib/python3.10/dist-packages (from requests-oauthlib>=0.7.0->google-auth-oauthlib<0.5,>=0.4.1->tensorboard<2.9,>=2.8->tensorflow->keras-rl2) (3.2.2)\n",
            "Installing collected packages: keras-rl2\n",
            "Successfully installed keras-rl2-1.0.5\n"
          ]
        }
      ]
    },
    {
      "cell_type": "code",
      "source": [
        "# Import Dependencies\n",
        "import random\n",
        "import numpy as np\n",
        "from tensorflow.keras.models import Sequential, Model\n",
        "from tensorflow.keras.layers import Dense, Input\n",
        "from tensorflow.keras.optimizers import Adam\n",
        "\n",
        "# Different agents within the Keras model\n",
        "from rl.agents.dqn import DQNAgent\n",
        "# policy based RL. Specific policy\n",
        "from rl.policy import BoltzmannQPolicy\n",
        "# For our agent we need to maintain memory\n",
        "from rl.memory import SequentialMemory"
      ],
      "metadata": {
        "id": "gAmle_NSPtcY"
      },
      "execution_count": 3,
      "outputs": []
    },
    {
      "cell_type": "markdown",
      "source": [
        "Setting up RPSLS Environment"
      ],
      "metadata": {
        "id": "upDJRf9ZWp4Z"
      }
    },
    {
      "cell_type": "code",
      "execution_count": 14,
      "metadata": {
        "id": "EWOI3VOaSPDA"
      },
      "outputs": [],
      "source": [
        "# Set up environment for agent to learn. Includes defining actions and rewards.\n",
        "class RockPaperScissorsLizardSpockEnvironment:\n",
        "     def __init__(self):\n",
        "      self.actions = [0, 1, 2, 3, 4]  # rock: 0, paper: 1, scissors: 2, lizard: 3, spock: 4\n",
        "      self.rewards = {(0, 0): 0, (0, 1): -1, (0, 2): 1, (0, 3): 1, (0, 4): -1,\n",
        "       (1, 0): 1, (1, 1): 0, (1, 2): -1, (1, 3): -1, (1, 4): 1, (2, 0): -1,\n",
        "        (2, 1): 1, (2, 2): 0, (2, 3): 1, (2, 4): -1, (3, 0): -1, (3, 1): 1,\n",
        "         (3, 2): -1, (3, 3): 0, (3, 4): 1, (4, 0): 1, (4, 1): -1, (4, 2): 1, (4, 3): -1, (4, 4): 0\n",
        "                      }\n",
        "\n",
        "      self.max_steps = 10\n",
        "      self.current_step = 0\n",
        "\n",
        "     def step(self, action):\n",
        "        opponent_action = self.select_opponent_action()\n",
        "        reward = self.rewards[(action, opponent_action)]\n",
        "        self.current_step += 1\n",
        "        done = self.current_step >= self.max_steps\n",
        "        info = {}\n",
        "        return opponent_action, reward, done, info\n",
        "\n",
        "     def reset(self):\n",
        "        self.current_step = 0\n",
        "        action = random.choice(self.actions)\n",
        "        return action\n",
        "\n",
        "     def select_opponent_action(self):\n",
        "        # This strategy is just a simple example of adding probabilities to the choices.\n",
        "        probabilities = [0.4, 0.2, 0.1, 0.1, 0.2]  # distribution from website data: rock: 0.4, paper: 0.2, scissors: 0.1, lizard: 0.1, spock: 0.2\n",
        "        opponent_action = random.choices(self.actions, weights=probabilities)[0]\n",
        "        return opponent_action\n"
      ]
    },
    {
      "cell_type": "code",
      "source": [
        "# Define the Q-network model 1\n",
        "def build_model(states, actions):\n",
        "    input_shape = (states,)  # Use the length of states for the input shape\n",
        "    inputs = Input(shape=input_shape)\n",
        "    x = Dense(24, activation='relu')(inputs)\n",
        "    x = Dense(24, activation='relu')(x)\n",
        "    outputs = Dense(actions, activation='linear')(x)  # Output layer with number of actions\n",
        "    model = Model(inputs=inputs, outputs=outputs)\n",
        "    return model"
      ],
      "metadata": {
        "id": "ppxk1_OPhsoz"
      },
      "execution_count": 15,
      "outputs": []
    },
    {
      "cell_type": "code",
      "source": [
        "# Set up the environment and agent\n",
        "env = RockPaperScissorsLizardSpockEnvironment()\n",
        "states = 1\n",
        "actions = [0, 1, 2, 3, 4]\n",
        "model = build_model(states, len(actions))\n",
        "model.compile(optimizer=Adam(learning_rate=0.001), loss='mse')"
      ],
      "metadata": {
        "id": "qNPKPJTtQkuX"
      },
      "execution_count": 16,
      "outputs": []
    },
    {
      "cell_type": "code",
      "source": [
        "# Summary of model\n",
        "model.summary()"
      ],
      "metadata": {
        "colab": {
          "base_uri": "https://localhost:8080/"
        },
        "id": "8kMCAZQnvroN",
        "outputId": "1fc5e035-558c-4dcc-8626-4e23ead27857"
      },
      "execution_count": 17,
      "outputs": [
        {
          "output_type": "stream",
          "name": "stdout",
          "text": [
            "Model: \"model_2\"\n",
            "_________________________________________________________________\n",
            " Layer (type)                Output Shape              Param #   \n",
            "=================================================================\n",
            " input_2 (InputLayer)        [(None, 1)]               0         \n",
            "                                                                 \n",
            " dense_3 (Dense)             (None, 24)                48        \n",
            "                                                                 \n",
            " dense_4 (Dense)             (None, 24)                600       \n",
            "                                                                 \n",
            " dense_5 (Dense)             (None, 5)                 125       \n",
            "                                                                 \n",
            "=================================================================\n",
            "Total params: 773\n",
            "Trainable params: 773\n",
            "Non-trainable params: 0\n",
            "_________________________________________________________________\n"
          ]
        }
      ]
    },
    {
      "cell_type": "code",
      "source": [
        "# Set up DQN agent\n",
        "memory = SequentialMemory(limit=50000, window_length=1)\n",
        "policy = BoltzmannQPolicy()\n",
        "dqn = DQNAgent(model=model, memory=memory, policy=policy,\n",
        "               nb_actions=len(actions), nb_steps_warmup=10, target_model_update=1e-2)\n",
        "dqn.compile(optimizer=Adam(learning_rate=1e-3), metrics=['mae'])"
      ],
      "metadata": {
        "id": "Mc3JpIEZQwr-"
      },
      "execution_count": 18,
      "outputs": []
    },
    {
      "cell_type": "code",
      "source": [
        "# Train the DQN agent\n",
        "dqn.fit(env, nb_steps=50000, visualize=False, verbose=1)"
      ],
      "metadata": {
        "colab": {
          "base_uri": "https://localhost:8080/"
        },
        "id": "gkqpJ_i8QywV",
        "outputId": "e7636734-6666-4994-e6a7-0483e23008a7"
      },
      "execution_count": 19,
      "outputs": [
        {
          "output_type": "stream",
          "name": "stdout",
          "text": [
            "Training for 50000 steps ...\n",
            "Interval 1 (0 steps performed)\n",
            "10000/10000 [==============================] - 83s 8ms/step - reward: 0.0553\n",
            "1000 episodes - episode_reward: 0.553 [-9.000, 10.000] - loss: 0.678 - mae: 1.995 - mean_q: 2.619\n",
            "\n",
            "Interval 2 (10000 steps performed)\n",
            "10000/10000 [==============================] - 83s 8ms/step - reward: 0.0768\n",
            "1000 episodes - episode_reward: 0.768 [-8.000, 9.000] - loss: 0.891 - mae: 2.633 - mean_q: 3.450\n",
            "\n",
            "Interval 3 (20000 steps performed)\n",
            "10000/10000 [==============================] - 87s 9ms/step - reward: 0.0748\n",
            "1000 episodes - episode_reward: 0.748 [-8.000, 9.000] - loss: 0.904 - mae: 2.687 - mean_q: 3.500\n",
            "\n",
            "Interval 4 (30000 steps performed)\n",
            "10000/10000 [==============================] - 88s 9ms/step - reward: 0.0838\n",
            "1000 episodes - episode_reward: 0.838 [-8.000, 9.000] - loss: 0.927 - mae: 2.749 - mean_q: 3.578\n",
            "\n",
            "Interval 5 (40000 steps performed)\n",
            "10000/10000 [==============================] - 88s 9ms/step - reward: 0.0671\n",
            "done, took 430.851 seconds\n"
          ]
        },
        {
          "output_type": "execute_result",
          "data": {
            "text/plain": [
              "<keras.callbacks.History at 0x79b724353730>"
            ]
          },
          "metadata": {},
          "execution_count": 19
        }
      ]
    },
    {
      "cell_type": "code",
      "source": [
        "# Evaluate the trained agent\n",
        "scores = dqn.test(env, nb_episodes=100, visualize=False)"
      ],
      "metadata": {
        "id": "3X7v5L3sQ1Fm",
        "colab": {
          "base_uri": "https://localhost:8080/"
        },
        "outputId": "9ff20c06-4d9d-464f-df63-8696fcaa494f"
      },
      "execution_count": 20,
      "outputs": [
        {
          "output_type": "stream",
          "name": "stdout",
          "text": [
            "Testing for 100 episodes ...\n",
            "Episode 1: reward: 4.000, steps: 10\n",
            "Episode 2: reward: 4.000, steps: 10\n",
            "Episode 3: reward: 7.000, steps: 10\n",
            "Episode 4: reward: 10.000, steps: 10\n",
            "Episode 5: reward: 4.000, steps: 10\n",
            "Episode 6: reward: 6.000, steps: 10\n",
            "Episode 7: reward: -2.000, steps: 10\n",
            "Episode 8: reward: 5.000, steps: 10\n",
            "Episode 9: reward: 1.000, steps: 10\n",
            "Episode 10: reward: 5.000, steps: 10\n",
            "Episode 11: reward: 2.000, steps: 10\n",
            "Episode 12: reward: 4.000, steps: 10\n",
            "Episode 13: reward: 5.000, steps: 10\n",
            "Episode 14: reward: 4.000, steps: 10\n",
            "Episode 15: reward: 5.000, steps: 10\n",
            "Episode 16: reward: 2.000, steps: 10\n",
            "Episode 17: reward: 6.000, steps: 10\n",
            "Episode 18: reward: 2.000, steps: 10\n",
            "Episode 19: reward: 2.000, steps: 10\n",
            "Episode 20: reward: 6.000, steps: 10\n",
            "Episode 21: reward: 4.000, steps: 10\n",
            "Episode 22: reward: 3.000, steps: 10\n",
            "Episode 23: reward: 4.000, steps: 10\n",
            "Episode 24: reward: 7.000, steps: 10\n",
            "Episode 25: reward: 6.000, steps: 10\n",
            "Episode 26: reward: 6.000, steps: 10\n",
            "Episode 27: reward: 2.000, steps: 10\n",
            "Episode 28: reward: 1.000, steps: 10\n",
            "Episode 29: reward: 3.000, steps: 10\n",
            "Episode 30: reward: 4.000, steps: 10\n",
            "Episode 31: reward: 4.000, steps: 10\n",
            "Episode 32: reward: 1.000, steps: 10\n",
            "Episode 33: reward: 5.000, steps: 10\n",
            "Episode 34: reward: 6.000, steps: 10\n",
            "Episode 35: reward: 6.000, steps: 10\n",
            "Episode 36: reward: 6.000, steps: 10\n",
            "Episode 37: reward: 6.000, steps: 10\n",
            "Episode 38: reward: 5.000, steps: 10\n",
            "Episode 39: reward: 5.000, steps: 10\n",
            "Episode 40: reward: 8.000, steps: 10\n",
            "Episode 41: reward: 1.000, steps: 10\n",
            "Episode 42: reward: 6.000, steps: 10\n",
            "Episode 43: reward: 5.000, steps: 10\n",
            "Episode 44: reward: 5.000, steps: 10\n",
            "Episode 45: reward: 8.000, steps: 10\n",
            "Episode 46: reward: 2.000, steps: 10\n",
            "Episode 47: reward: 4.000, steps: 10\n",
            "Episode 48: reward: 1.000, steps: 10\n",
            "Episode 49: reward: 7.000, steps: 10\n",
            "Episode 50: reward: -2.000, steps: 10\n",
            "Episode 51: reward: 4.000, steps: 10\n",
            "Episode 52: reward: -2.000, steps: 10\n",
            "Episode 53: reward: 3.000, steps: 10\n",
            "Episode 54: reward: 5.000, steps: 10\n",
            "Episode 55: reward: 6.000, steps: 10\n",
            "Episode 56: reward: 4.000, steps: 10\n",
            "Episode 57: reward: 4.000, steps: 10\n",
            "Episode 58: reward: 3.000, steps: 10\n",
            "Episode 59: reward: 1.000, steps: 10\n",
            "Episode 60: reward: 8.000, steps: 10\n",
            "Episode 61: reward: 1.000, steps: 10\n",
            "Episode 62: reward: 4.000, steps: 10\n",
            "Episode 63: reward: 6.000, steps: 10\n",
            "Episode 64: reward: 5.000, steps: 10\n",
            "Episode 65: reward: 2.000, steps: 10\n",
            "Episode 66: reward: 8.000, steps: 10\n",
            "Episode 67: reward: 5.000, steps: 10\n",
            "Episode 68: reward: 1.000, steps: 10\n",
            "Episode 69: reward: 5.000, steps: 10\n",
            "Episode 70: reward: 3.000, steps: 10\n",
            "Episode 71: reward: 3.000, steps: 10\n",
            "Episode 72: reward: 2.000, steps: 10\n",
            "Episode 73: reward: 8.000, steps: 10\n",
            "Episode 74: reward: 3.000, steps: 10\n",
            "Episode 75: reward: 0.000, steps: 10\n",
            "Episode 76: reward: 5.000, steps: 10\n",
            "Episode 77: reward: 7.000, steps: 10\n",
            "Episode 78: reward: 3.000, steps: 10\n",
            "Episode 79: reward: 8.000, steps: 10\n",
            "Episode 80: reward: 4.000, steps: 10\n",
            "Episode 81: reward: 6.000, steps: 10\n",
            "Episode 82: reward: 2.000, steps: 10\n",
            "Episode 83: reward: 10.000, steps: 10\n",
            "Episode 84: reward: 3.000, steps: 10\n",
            "Episode 85: reward: -2.000, steps: 10\n",
            "Episode 86: reward: 8.000, steps: 10\n",
            "Episode 87: reward: 4.000, steps: 10\n",
            "Episode 88: reward: 3.000, steps: 10\n",
            "Episode 89: reward: 2.000, steps: 10\n",
            "Episode 90: reward: -1.000, steps: 10\n",
            "Episode 91: reward: 6.000, steps: 10\n",
            "Episode 92: reward: 8.000, steps: 10\n",
            "Episode 93: reward: 7.000, steps: 10\n",
            "Episode 94: reward: 4.000, steps: 10\n",
            "Episode 95: reward: 6.000, steps: 10\n",
            "Episode 96: reward: 5.000, steps: 10\n",
            "Episode 97: reward: 8.000, steps: 10\n",
            "Episode 98: reward: 3.000, steps: 10\n",
            "Episode 99: reward: 4.000, steps: 10\n",
            "Episode 100: reward: 2.000, steps: 10\n",
            "4.18\n"
          ]
        }
      ]
    },
    {
      "cell_type": "code",
      "source": [
        "# Calculate sum, mean and median of the rewards\n",
        "sum_reward = np.sum(scores.history['episode_reward'])\n",
        "mean_reward = np.mean(scores.history['episode_reward'])\n",
        "median_reward = np.median(scores.history['episode_reward'])\n",
        "\n",
        "print(\"Sum Reward:\", sum_reward)\n",
        "print(\"Mean Reward:\", mean_reward)\n",
        "print(\"Median Reward:\", median_reward)"
      ],
      "metadata": {
        "colab": {
          "base_uri": "https://localhost:8080/"
        },
        "id": "n3JtHzpuQg-u",
        "outputId": "7945d5fb-6acf-46e9-a566-6b7c0e74d974"
      },
      "execution_count": 21,
      "outputs": [
        {
          "output_type": "stream",
          "name": "stdout",
          "text": [
            "Sum Reward: 418.0\n",
            "Mean Reward: 4.18\n",
            "Median Reward: 4.0\n"
          ]
        }
      ]
    }
  ]
}