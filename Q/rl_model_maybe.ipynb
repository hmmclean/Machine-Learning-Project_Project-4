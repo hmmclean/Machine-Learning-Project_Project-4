{
 "cells": [
  {
   "cell_type": "code",
   "execution_count": 3,
   "metadata": {},
   "outputs": [
    {
     "data": {
      "text/plain": [
       "('Computer', 0, 1)"
      ]
     },
     "execution_count": 3,
     "metadata": {},
     "output_type": "execute_result"
    }
   ],
   "source": [
    "# create a function for a rock paper scissors lizard spock game\n",
    "# the function should take in a number that represents the user's choice\n",
    "# the function should generate a random number for the computer's choice\n",
    "# the function should determine the winner and print the result\n",
    "# the function should return the result\n",
    "# the function should print the choices of the computer and the user\n",
    "# the function should print the result of the game\n",
    "# the function should print the score of the game\n",
    "# the function should print the number of games played\n",
    "\n",
    "import random\n",
    "\n",
    "def rpsls(user_choice):\n",
    "    computer_choice = random.randint(0, 4)\n",
    "    if user_choice == computer_choice:\n",
    "        result = 'Tie'\n",
    "    elif user_choice == 0:\n",
    "        if computer_choice == 1 or computer_choice == 4:\n",
    "            result = 'Computer'\n",
    "        else:\n",
    "            result = 'User'\n",
    "    elif user_choice == 1:\n",
    "        if computer_choice == 2 or computer_choice == 3:\n",
    "            result = 'Computer'\n",
    "        else:\n",
    "            result = 'User'\n",
    "    elif user_choice == 2:\n",
    "        if computer_choice == 0 or computer_choice == 4:\n",
    "            result = 'Computer'\n",
    "        else:\n",
    "            result = 'User'\n",
    "    elif user_choice == 3:\n",
    "        if computer_choice == 0 or computer_choice == 2:\n",
    "            result = 'Computer'\n",
    "        else:\n",
    "            result = 'User'\n",
    "    elif user_choice == 4:\n",
    "        if computer_choice == 1 or computer_choice == 3:\n",
    "            result = 'Computer'\n",
    "        else:\n",
    "            result = 'User'\n",
    "    else:\n",
    "        result = 'Invalid'\n",
    "    if result == 'User':\n",
    "        user_score = 1\n",
    "        computer_score = 0\n",
    "    elif result == 'Computer':\n",
    "        user_score = 0\n",
    "        computer_score = 1\n",
    "    else:\n",
    "        user_score = 0\n",
    "        computer_score = 0\n",
    "    return result, user_score, computer_score\n",
    "\n",
    "def main():\n",
    "    user_score = 0\n",
    "    computer_score = 0\n",
    "    games_played = 0\n",
    "    while True:\n",
    "        user_choice = int(input('Enter your choice (0=rock, 1=paper, 2=scissors, 3=lizard, 4=spock): '))\n",
    "        result, user_score, computer_score = rpsls(user_choice)\n",
    "        games_played += 1\n",
    "        if result == 'User':\n",
    "            user_score += 1\n",
    "        elif result == 'Computer':\n",
    "            computer_score += 1\n",
    "        print('User choice:', user_choice)\n",
    "        print('Computer choice:', computer_choice)\n",
    "        print('Result:', result)\n",
    "        print('User score:', user_score)\n",
    "        print('Computer score:', computer_score)\n",
    "        print('Games played:', games_played)\n",
    "        play_again = input('Do you want to play again? (yes/no): ')\n",
    "        if play_again == 'no':\n",
    "            break\n",
    "   "
   ]
  },
  {
   "cell_type": "code",
   "execution_count": 4,
   "metadata": {},
   "outputs": [
    {
     "data": {
      "text/plain": [
       "('Tie', 0, 0)"
      ]
     },
     "execution_count": 4,
     "metadata": {},
     "output_type": "execute_result"
    }
   ],
   "source": []
  }
 ],
 "metadata": {
  "kernelspec": {
   "display_name": "dev",
   "language": "python",
   "name": "python3"
  },
  "language_info": {
   "codemirror_mode": {
    "name": "ipython",
    "version": 3
   },
   "file_extension": ".py",
   "mimetype": "text/x-python",
   "name": "python",
   "nbconvert_exporter": "python",
   "pygments_lexer": "ipython3",
   "version": "3.10.13"
  }
 },
 "nbformat": 4,
 "nbformat_minor": 2
}
